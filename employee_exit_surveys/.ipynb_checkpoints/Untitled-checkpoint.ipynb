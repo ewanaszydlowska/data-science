{
 "cells": [
  {
   "cell_type": "markdown",
   "metadata": {},
   "source": [
    "## Clean and analyze employee exit surveys\n",
    "\n",
    "In this project, we'll play the role of data analyst and pretend our stakeholders want to know the following:\n",
    "\n",
    "- Are employees who only worked for the institutes for a short period of time resigning due to some kind of dissatisfaction? What about employees who have been there longer?\n",
    "- Are younger employees resigning due to some kind of dissatisfaction? What about older employees?\n"
   ]
  },
  {
   "cell_type": "code",
   "execution_count": 1036,
   "metadata": {},
   "outputs": [
    {
     "name": "stdout",
     "output_type": "stream",
     "text": [
      "<class 'pandas.core.frame.DataFrame'>\n",
      "RangeIndex: 822 entries, 0 to 821\n",
      "Data columns (total 56 columns):\n",
      " #   Column                               Non-Null Count  Dtype  \n",
      "---  ------                               --------------  -----  \n",
      " 0   ID                                   822 non-null    int64  \n",
      " 1   SeparationType                       822 non-null    object \n",
      " 2   Cease Date                           788 non-null    object \n",
      " 3   DETE Start Date                      749 non-null    float64\n",
      " 4   Role Start Date                      724 non-null    float64\n",
      " 5   Position                             817 non-null    object \n",
      " 6   Classification                       455 non-null    object \n",
      " 7   Region                               717 non-null    object \n",
      " 8   Business Unit                        126 non-null    object \n",
      " 9   Employment Status                    817 non-null    object \n",
      " 10  Career move to public sector         822 non-null    bool   \n",
      " 11  Career move to private sector        822 non-null    bool   \n",
      " 12  Interpersonal conflicts              822 non-null    bool   \n",
      " 13  Job dissatisfaction                  822 non-null    bool   \n",
      " 14  Dissatisfaction with the department  822 non-null    bool   \n",
      " 15  Physical work environment            822 non-null    bool   \n",
      " 16  Lack of recognition                  822 non-null    bool   \n",
      " 17  Lack of job security                 822 non-null    bool   \n",
      " 18  Work location                        822 non-null    bool   \n",
      " 19  Employment conditions                822 non-null    bool   \n",
      " 20  Maternity/family                     822 non-null    bool   \n",
      " 21  Relocation                           822 non-null    bool   \n",
      " 22  Study/Travel                         822 non-null    bool   \n",
      " 23  Ill Health                           822 non-null    bool   \n",
      " 24  Traumatic incident                   822 non-null    bool   \n",
      " 25  Work life balance                    822 non-null    bool   \n",
      " 26  Workload                             822 non-null    bool   \n",
      " 27  None of the above                    822 non-null    bool   \n",
      " 28  Professional Development             808 non-null    object \n",
      " 29  Opportunities for promotion          735 non-null    object \n",
      " 30  Staff morale                         816 non-null    object \n",
      " 31  Workplace issue                      788 non-null    object \n",
      " 32  Physical environment                 817 non-null    object \n",
      " 33  Worklife balance                     815 non-null    object \n",
      " 34  Stress and pressure support          810 non-null    object \n",
      " 35  Performance of supervisor            813 non-null    object \n",
      " 36  Peer support                         812 non-null    object \n",
      " 37  Initiative                           813 non-null    object \n",
      " 38  Skills                               811 non-null    object \n",
      " 39  Coach                                767 non-null    object \n",
      " 40  Career Aspirations                   746 non-null    object \n",
      " 41  Feedback                             792 non-null    object \n",
      " 42  Further PD                           768 non-null    object \n",
      " 43  Communication                        814 non-null    object \n",
      " 44  My say                               812 non-null    object \n",
      " 45  Information                          816 non-null    object \n",
      " 46  Kept informed                        813 non-null    object \n",
      " 47  Wellness programs                    766 non-null    object \n",
      " 48  Health & Safety                      793 non-null    object \n",
      " 49  Gender                               798 non-null    object \n",
      " 50  Age                                  811 non-null    object \n",
      " 51  Aboriginal                           16 non-null     object \n",
      " 52  Torres Strait                        3 non-null      object \n",
      " 53  South Sea                            7 non-null      object \n",
      " 54  Disability                           23 non-null     object \n",
      " 55  NESB                                 32 non-null     object \n",
      "dtypes: bool(18), float64(2), int64(1), object(35)\n",
      "memory usage: 258.6+ KB\n",
      "None\n"
     ]
    }
   ],
   "source": [
    "import pandas as pd\n",
    "import numpy as np\n",
    "\n",
    "dete_survey = pd.read_csv('dete_survey.csv', na_values='Not Stated')\n",
    "tafe_survey = pd.read_csv('tafe_survey.csv')\n",
    "\n",
    "print(dete_survey.info())"
   ]
  },
  {
   "cell_type": "code",
   "execution_count": 1037,
   "metadata": {},
   "outputs": [
    {
     "name": "stdout",
     "output_type": "stream",
     "text": [
      "   ID                    SeparationType Cease Date  DETE Start Date  \\\n",
      "0   1             Ill Health Retirement    08/2012           1984.0   \n",
      "1   2  Voluntary Early Retirement (VER)    08/2012              NaN   \n",
      "2   3  Voluntary Early Retirement (VER)    05/2012           2011.0   \n",
      "3   4         Resignation-Other reasons    05/2012           2005.0   \n",
      "4   5                    Age Retirement    05/2012           1970.0   \n",
      "\n",
      "   Role Start Date                                      Position  \\\n",
      "0           2004.0                                Public Servant   \n",
      "1              NaN                                Public Servant   \n",
      "2           2011.0                               Schools Officer   \n",
      "3           2006.0                                       Teacher   \n",
      "4           1989.0  Head of Curriculum/Head of Special Education   \n",
      "\n",
      "  Classification              Region                      Business Unit  \\\n",
      "0        A01-A04      Central Office  Corporate Strategy and Peformance   \n",
      "1        AO5-AO7      Central Office  Corporate Strategy and Peformance   \n",
      "2            NaN      Central Office               Education Queensland   \n",
      "3        Primary  Central Queensland                                NaN   \n",
      "4            NaN          South East                                NaN   \n",
      "\n",
      "     Employment Status  ...  Kept informed  Wellness programs  \\\n",
      "0  Permanent Full-time  ...              N                  N   \n",
      "1  Permanent Full-time  ...              N                  N   \n",
      "2  Permanent Full-time  ...              N                  N   \n",
      "3  Permanent Full-time  ...              A                  N   \n",
      "4  Permanent Full-time  ...              N                  A   \n",
      "\n",
      "   Health & Safety  Gender          Age  Aboriginal  Torres Strait  South Sea  \\\n",
      "0                N    Male        56-60         NaN            NaN        NaN   \n",
      "1                N    Male        56-60         NaN            NaN        NaN   \n",
      "2                N    Male  61 or older         NaN            NaN        NaN   \n",
      "3                A  Female        36-40         NaN            NaN        NaN   \n",
      "4                M  Female  61 or older         NaN            NaN        NaN   \n",
      "\n",
      "   Disability  NESB  \n",
      "0         NaN   Yes  \n",
      "1         NaN   NaN  \n",
      "2         NaN   NaN  \n",
      "3         NaN   NaN  \n",
      "4         NaN   NaN  \n",
      "\n",
      "[5 rows x 56 columns]\n"
     ]
    }
   ],
   "source": [
    "print(dete_survey.head())"
   ]
  },
  {
   "cell_type": "code",
   "execution_count": 1038,
   "metadata": {},
   "outputs": [
    {
     "data": {
      "text/plain": [
       "ID                                       0\n",
       "SeparationType                           0\n",
       "Cease Date                              34\n",
       "DETE Start Date                         73\n",
       "Role Start Date                         98\n",
       "Position                                 5\n",
       "Classification                         367\n",
       "Region                                 105\n",
       "Business Unit                          696\n",
       "Employment Status                        5\n",
       "Career move to public sector             0\n",
       "Career move to private sector            0\n",
       "Interpersonal conflicts                  0\n",
       "Job dissatisfaction                      0\n",
       "Dissatisfaction with the department      0\n",
       "Physical work environment                0\n",
       "Lack of recognition                      0\n",
       "Lack of job security                     0\n",
       "Work location                            0\n",
       "Employment conditions                    0\n",
       "Maternity/family                         0\n",
       "Relocation                               0\n",
       "Study/Travel                             0\n",
       "Ill Health                               0\n",
       "Traumatic incident                       0\n",
       "Work life balance                        0\n",
       "Workload                                 0\n",
       "None of the above                        0\n",
       "Professional Development                14\n",
       "Opportunities for promotion             87\n",
       "Staff morale                             6\n",
       "Workplace issue                         34\n",
       "Physical environment                     5\n",
       "Worklife balance                         7\n",
       "Stress and pressure support             12\n",
       "Performance of supervisor                9\n",
       "Peer support                            10\n",
       "Initiative                               9\n",
       "Skills                                  11\n",
       "Coach                                   55\n",
       "Career Aspirations                      76\n",
       "Feedback                                30\n",
       "Further PD                              54\n",
       "Communication                            8\n",
       "My say                                  10\n",
       "Information                              6\n",
       "Kept informed                            9\n",
       "Wellness programs                       56\n",
       "Health & Safety                         29\n",
       "Gender                                  24\n",
       "Age                                     11\n",
       "Aboriginal                             806\n",
       "Torres Strait                          819\n",
       "South Sea                              815\n",
       "Disability                             799\n",
       "NESB                                   790\n",
       "dtype: int64"
      ]
     },
     "execution_count": 1038,
     "metadata": {},
     "output_type": "execute_result"
    }
   ],
   "source": [
    "dete_survey.isnull().sum()"
   ]
  },
  {
   "cell_type": "code",
   "execution_count": 1039,
   "metadata": {},
   "outputs": [
    {
     "name": "stdout",
     "output_type": "stream",
     "text": [
      "<class 'pandas.core.frame.DataFrame'>\n",
      "RangeIndex: 702 entries, 0 to 701\n",
      "Data columns (total 72 columns):\n",
      " #   Column                                                                                                                                                         Non-Null Count  Dtype  \n",
      "---  ------                                                                                                                                                         --------------  -----  \n",
      " 0   Record ID                                                                                                                                                      702 non-null    float64\n",
      " 1   Institute                                                                                                                                                      702 non-null    object \n",
      " 2   WorkArea                                                                                                                                                       702 non-null    object \n",
      " 3   CESSATION YEAR                                                                                                                                                 695 non-null    float64\n",
      " 4   Reason for ceasing employment                                                                                                                                  701 non-null    object \n",
      " 5   Contributing Factors. Career Move - Public Sector                                                                                                              437 non-null    object \n",
      " 6   Contributing Factors. Career Move - Private Sector                                                                                                             437 non-null    object \n",
      " 7   Contributing Factors. Career Move - Self-employment                                                                                                            437 non-null    object \n",
      " 8   Contributing Factors. Ill Health                                                                                                                               437 non-null    object \n",
      " 9   Contributing Factors. Maternity/Family                                                                                                                         437 non-null    object \n",
      " 10  Contributing Factors. Dissatisfaction                                                                                                                          437 non-null    object \n",
      " 11  Contributing Factors. Job Dissatisfaction                                                                                                                      437 non-null    object \n",
      " 12  Contributing Factors. Interpersonal Conflict                                                                                                                   437 non-null    object \n",
      " 13  Contributing Factors. Study                                                                                                                                    437 non-null    object \n",
      " 14  Contributing Factors. Travel                                                                                                                                   437 non-null    object \n",
      " 15  Contributing Factors. Other                                                                                                                                    437 non-null    object \n",
      " 16  Contributing Factors. NONE                                                                                                                                     437 non-null    object \n",
      " 17  Main Factor. Which of these was the main factor for leaving?                                                                                                   113 non-null    object \n",
      " 18  InstituteViews. Topic:1. I feel the senior leadership had a clear vision and direction                                                                         608 non-null    object \n",
      " 19  InstituteViews. Topic:2. I was given access to skills training to help me do my job better                                                                     613 non-null    object \n",
      " 20  InstituteViews. Topic:3. I was given adequate opportunities for personal development                                                                           610 non-null    object \n",
      " 21  InstituteViews. Topic:4. I was given adequate opportunities for promotion within %Institute]Q25LBL%                                                            608 non-null    object \n",
      " 22  InstituteViews. Topic:5. I felt the salary for the job was right for the responsibilities I had                                                                615 non-null    object \n",
      " 23  InstituteViews. Topic:6. The organisation recognised when staff did good work                                                                                  607 non-null    object \n",
      " 24  InstituteViews. Topic:7. Management was generally supportive of me                                                                                             614 non-null    object \n",
      " 25  InstituteViews. Topic:8. Management was generally supportive of my team                                                                                        608 non-null    object \n",
      " 26  InstituteViews. Topic:9. I was kept informed of the changes in the organisation which would affect me                                                          610 non-null    object \n",
      " 27  InstituteViews. Topic:10. Staff morale was positive within the Institute                                                                                       602 non-null    object \n",
      " 28  InstituteViews. Topic:11. If I had a workplace issue it was dealt with quickly                                                                                 601 non-null    object \n",
      " 29  InstituteViews. Topic:12. If I had a workplace issue it was dealt with efficiently                                                                             597 non-null    object \n",
      " 30  InstituteViews. Topic:13. If I had a workplace issue it was dealt with discreetly                                                                              601 non-null    object \n",
      " 31  WorkUnitViews. Topic:14. I was satisfied with the quality of the management and supervision within my work unit                                                609 non-null    object \n",
      " 32  WorkUnitViews. Topic:15. I worked well with my colleagues                                                                                                      605 non-null    object \n",
      " 33  WorkUnitViews. Topic:16. My job was challenging and interesting                                                                                                607 non-null    object \n",
      " 34  WorkUnitViews. Topic:17. I was encouraged to use my initiative in the course of my work                                                                        610 non-null    object \n",
      " 35  WorkUnitViews. Topic:18. I had sufficient contact with other people in my job                                                                                  613 non-null    object \n",
      " 36  WorkUnitViews. Topic:19. I was given adequate support and co-operation by my peers to enable me to do my job                                                   609 non-null    object \n",
      " 37  WorkUnitViews. Topic:20. I was able to use the full range of my skills in my job                                                                               609 non-null    object \n",
      " 38  WorkUnitViews. Topic:21. I was able to use the full range of my abilities in my job. ; Category:Level of Agreement; Question:YOUR VIEWS ABOUT YOUR WORK UNIT]  608 non-null    object \n",
      " 39  WorkUnitViews. Topic:22. I was able to use the full range of my knowledge in my job                                                                            608 non-null    object \n",
      " 40  WorkUnitViews. Topic:23. My job provided sufficient variety                                                                                                    611 non-null    object \n",
      " 41  WorkUnitViews. Topic:24. I was able to cope with the level of stress and pressure in my job                                                                    610 non-null    object \n",
      " 42  WorkUnitViews. Topic:25. My job allowed me to balance the demands of work and family to my satisfaction                                                        611 non-null    object \n",
      " 43  WorkUnitViews. Topic:26. My supervisor gave me adequate personal recognition and feedback on my performance                                                    606 non-null    object \n",
      " 44  WorkUnitViews. Topic:27. My working environment was satisfactory e.g. sufficient space, good lighting, suitable seating and working area                       610 non-null    object \n",
      " 45  WorkUnitViews. Topic:28. I was given the opportunity to mentor and coach others in order for me to pass on my skills and knowledge prior to my cessation date  609 non-null    object \n",
      " 46  WorkUnitViews. Topic:29. There was adequate communication between staff in my unit                                                                             603 non-null    object \n",
      " 47  WorkUnitViews. Topic:30. Staff morale was positive within my work unit                                                                                         606 non-null    object \n",
      " 48  Induction. Did you undertake Workplace Induction?                                                                                                              619 non-null    object \n",
      " 49  InductionInfo. Topic:Did you undertake a Corporate Induction?                                                                                                  432 non-null    object \n",
      " 50  InductionInfo. Topic:Did you undertake a Institute Induction?                                                                                                  483 non-null    object \n",
      " 51  InductionInfo. Topic: Did you undertake Team Induction?                                                                                                        440 non-null    object \n",
      " 52  InductionInfo. Face to Face Topic:Did you undertake a Corporate Induction; Category:How it was conducted?                                                      555 non-null    object \n",
      " 53  InductionInfo. On-line Topic:Did you undertake a Corporate Induction; Category:How it was conducted?                                                           555 non-null    object \n",
      " 54  InductionInfo. Induction Manual Topic:Did you undertake a Corporate Induction?                                                                                 555 non-null    object \n",
      " 55  InductionInfo. Face to Face Topic:Did you undertake a Institute Induction?                                                                                     530 non-null    object \n",
      " 56  InductionInfo. On-line Topic:Did you undertake a Institute Induction?                                                                                          555 non-null    object \n",
      " 57  InductionInfo. Induction Manual Topic:Did you undertake a Institute Induction?                                                                                 553 non-null    object \n",
      " 58  InductionInfo. Face to Face Topic: Did you undertake Team Induction; Category?                                                                                 555 non-null    object \n",
      " 59  InductionInfo. On-line Topic: Did you undertake Team Induction?process you undertook and how it was conducted.]                                                555 non-null    object \n",
      " 60  InductionInfo. Induction Manual Topic: Did you undertake Team Induction?                                                                                       555 non-null    object \n",
      " 61  Workplace. Topic:Did you and your Manager develop a Performance and Professional Development Plan (PPDP)?                                                      608 non-null    object \n",
      " 62  Workplace. Topic:Does your workplace promote a work culture free from all forms of unlawful discrimination?                                                    594 non-null    object \n",
      " 63  Workplace. Topic:Does your workplace promote and practice the principles of employment equity?                                                                 587 non-null    object \n",
      " 64  Workplace. Topic:Does your workplace value the diversity of its employees?                                                                                     586 non-null    object \n",
      " 65  Workplace. Topic:Would you recommend the Institute as an employer to others?                                                                                   581 non-null    object \n",
      " 66  Gender. What is your Gender?                                                                                                                                   596 non-null    object \n",
      " 67  CurrentAge. Current Age                                                                                                                                        596 non-null    object \n",
      " 68  Employment Type. Employment Type                                                                                                                               596 non-null    object \n",
      " 69  Classification. Classification                                                                                                                                 596 non-null    object \n",
      " 70  LengthofServiceOverall. Overall Length of Service at Institute (in years)                                                                                      596 non-null    object \n",
      " 71  LengthofServiceCurrent. Length of Service at current workplace (in years)                                                                                      596 non-null    object \n",
      "dtypes: float64(2), object(70)\n",
      "memory usage: 395.0+ KB\n",
      "None\n"
     ]
    }
   ],
   "source": [
    "print(tafe_survey.info())"
   ]
  },
  {
   "cell_type": "code",
   "execution_count": 1040,
   "metadata": {},
   "outputs": [
    {
     "data": {
      "text/plain": [
       "Record ID                                                                      0\n",
       "Institute                                                                      0\n",
       "WorkArea                                                                       0\n",
       "CESSATION YEAR                                                                 7\n",
       "Reason for ceasing employment                                                  1\n",
       "                                                                            ... \n",
       "CurrentAge. Current Age                                                      106\n",
       "Employment Type. Employment Type                                             106\n",
       "Classification. Classification                                               106\n",
       "LengthofServiceOverall. Overall Length of Service at Institute (in years)    106\n",
       "LengthofServiceCurrent. Length of Service at current workplace (in years)    106\n",
       "Length: 72, dtype: int64"
      ]
     },
     "execution_count": 1040,
     "metadata": {},
     "output_type": "execute_result"
    }
   ],
   "source": [
    "tafe_survey.isnull().sum()"
   ]
  },
  {
   "cell_type": "code",
   "execution_count": 1041,
   "metadata": {},
   "outputs": [],
   "source": [
    "dete_survey_updated = dete_survey.drop(dete_survey.iloc[:, 28:49], axis=1)"
   ]
  },
  {
   "cell_type": "code",
   "execution_count": 1042,
   "metadata": {},
   "outputs": [
    {
     "name": "stdout",
     "output_type": "stream",
     "text": [
      "<class 'pandas.core.frame.DataFrame'>\n",
      "RangeIndex: 822 entries, 0 to 821\n",
      "Data columns (total 35 columns):\n",
      " #   Column                               Non-Null Count  Dtype  \n",
      "---  ------                               --------------  -----  \n",
      " 0   ID                                   822 non-null    int64  \n",
      " 1   SeparationType                       822 non-null    object \n",
      " 2   Cease Date                           788 non-null    object \n",
      " 3   DETE Start Date                      749 non-null    float64\n",
      " 4   Role Start Date                      724 non-null    float64\n",
      " 5   Position                             817 non-null    object \n",
      " 6   Classification                       455 non-null    object \n",
      " 7   Region                               717 non-null    object \n",
      " 8   Business Unit                        126 non-null    object \n",
      " 9   Employment Status                    817 non-null    object \n",
      " 10  Career move to public sector         822 non-null    bool   \n",
      " 11  Career move to private sector        822 non-null    bool   \n",
      " 12  Interpersonal conflicts              822 non-null    bool   \n",
      " 13  Job dissatisfaction                  822 non-null    bool   \n",
      " 14  Dissatisfaction with the department  822 non-null    bool   \n",
      " 15  Physical work environment            822 non-null    bool   \n",
      " 16  Lack of recognition                  822 non-null    bool   \n",
      " 17  Lack of job security                 822 non-null    bool   \n",
      " 18  Work location                        822 non-null    bool   \n",
      " 19  Employment conditions                822 non-null    bool   \n",
      " 20  Maternity/family                     822 non-null    bool   \n",
      " 21  Relocation                           822 non-null    bool   \n",
      " 22  Study/Travel                         822 non-null    bool   \n",
      " 23  Ill Health                           822 non-null    bool   \n",
      " 24  Traumatic incident                   822 non-null    bool   \n",
      " 25  Work life balance                    822 non-null    bool   \n",
      " 26  Workload                             822 non-null    bool   \n",
      " 27  None of the above                    822 non-null    bool   \n",
      " 28  Gender                               798 non-null    object \n",
      " 29  Age                                  811 non-null    object \n",
      " 30  Aboriginal                           16 non-null     object \n",
      " 31  Torres Strait                        3 non-null      object \n",
      " 32  South Sea                            7 non-null      object \n",
      " 33  Disability                           23 non-null     object \n",
      " 34  NESB                                 32 non-null     object \n",
      "dtypes: bool(18), float64(2), int64(1), object(14)\n",
      "memory usage: 123.7+ KB\n"
     ]
    }
   ],
   "source": [
    "dete_survey_updated.info()"
   ]
  },
  {
   "cell_type": "code",
   "execution_count": 1043,
   "metadata": {},
   "outputs": [],
   "source": [
    "tafe_survey_updated = tafe_survey.drop(tafe_survey.iloc[:, 17:66], axis=1)"
   ]
  },
  {
   "cell_type": "code",
   "execution_count": 1044,
   "metadata": {},
   "outputs": [
    {
     "name": "stdout",
     "output_type": "stream",
     "text": [
      "<class 'pandas.core.frame.DataFrame'>\n",
      "RangeIndex: 702 entries, 0 to 701\n",
      "Data columns (total 23 columns):\n",
      " #   Column                                                                     Non-Null Count  Dtype  \n",
      "---  ------                                                                     --------------  -----  \n",
      " 0   Record ID                                                                  702 non-null    float64\n",
      " 1   Institute                                                                  702 non-null    object \n",
      " 2   WorkArea                                                                   702 non-null    object \n",
      " 3   CESSATION YEAR                                                             695 non-null    float64\n",
      " 4   Reason for ceasing employment                                              701 non-null    object \n",
      " 5   Contributing Factors. Career Move - Public Sector                          437 non-null    object \n",
      " 6   Contributing Factors. Career Move - Private Sector                         437 non-null    object \n",
      " 7   Contributing Factors. Career Move - Self-employment                        437 non-null    object \n",
      " 8   Contributing Factors. Ill Health                                           437 non-null    object \n",
      " 9   Contributing Factors. Maternity/Family                                     437 non-null    object \n",
      " 10  Contributing Factors. Dissatisfaction                                      437 non-null    object \n",
      " 11  Contributing Factors. Job Dissatisfaction                                  437 non-null    object \n",
      " 12  Contributing Factors. Interpersonal Conflict                               437 non-null    object \n",
      " 13  Contributing Factors. Study                                                437 non-null    object \n",
      " 14  Contributing Factors. Travel                                               437 non-null    object \n",
      " 15  Contributing Factors. Other                                                437 non-null    object \n",
      " 16  Contributing Factors. NONE                                                 437 non-null    object \n",
      " 17  Gender. What is your Gender?                                               596 non-null    object \n",
      " 18  CurrentAge. Current Age                                                    596 non-null    object \n",
      " 19  Employment Type. Employment Type                                           596 non-null    object \n",
      " 20  Classification. Classification                                             596 non-null    object \n",
      " 21  LengthofServiceOverall. Overall Length of Service at Institute (in years)  596 non-null    object \n",
      " 22  LengthofServiceCurrent. Length of Service at current workplace (in years)  596 non-null    object \n",
      "dtypes: float64(2), object(21)\n",
      "memory usage: 126.3+ KB\n"
     ]
    }
   ],
   "source": [
    "tafe_survey_updated.info()"
   ]
  },
  {
   "cell_type": "markdown",
   "metadata": {},
   "source": [
    "## Clean column names\n",
    "\n",
    "- Make all the capitalization lowercase.\n",
    "- Remove any trailing whitespace from the end of the strings.\n",
    "- Replace spaces with underscores ('_').\n"
   ]
  },
  {
   "cell_type": "code",
   "execution_count": 1045,
   "metadata": {},
   "outputs": [],
   "source": [
    "dete_survey_updated.columns = dete_survey_updated.columns.str.replace(' ', '_').str.strip().str.upper()"
   ]
  },
  {
   "cell_type": "code",
   "execution_count": 1046,
   "metadata": {},
   "outputs": [
    {
     "data": {
      "text/plain": [
       "Index(['ID', 'SEPARATIONTYPE', 'CEASE_DATE', 'DETE_START_DATE',\n",
       "       'ROLE_START_DATE', 'POSITION', 'CLASSIFICATION', 'REGION',\n",
       "       'BUSINESS_UNIT', 'EMPLOYMENT_STATUS', 'CAREER_MOVE_TO_PUBLIC_SECTOR',\n",
       "       'CAREER_MOVE_TO_PRIVATE_SECTOR', 'INTERPERSONAL_CONFLICTS',\n",
       "       'JOB_DISSATISFACTION', 'DISSATISFACTION_WITH_THE_DEPARTMENT',\n",
       "       'PHYSICAL_WORK_ENVIRONMENT', 'LACK_OF_RECOGNITION',\n",
       "       'LACK_OF_JOB_SECURITY', 'WORK_LOCATION', 'EMPLOYMENT_CONDITIONS',\n",
       "       'MATERNITY/FAMILY', 'RELOCATION', 'STUDY/TRAVEL', 'ILL_HEALTH',\n",
       "       'TRAUMATIC_INCIDENT', 'WORK_LIFE_BALANCE', 'WORKLOAD',\n",
       "       'NONE_OF_THE_ABOVE', 'GENDER', 'AGE', 'ABORIGINAL', 'TORRES_STRAIT',\n",
       "       'SOUTH_SEA', 'DISABILITY', 'NESB'],\n",
       "      dtype='object')"
      ]
     },
     "execution_count": 1046,
     "metadata": {},
     "output_type": "execute_result"
    }
   ],
   "source": [
    "dete_survey_updated.columns"
   ]
  },
  {
   "cell_type": "code",
   "execution_count": 1047,
   "metadata": {},
   "outputs": [],
   "source": [
    "rename_dict = {'Record ID':'id', 'CESSATION YEAR':'cease_date', 'Reason for ceasing employment': 'separationtype', 'Gender. What is your Gender?': 'gender',\n",
    "'CurrentAge. Current Age': 'age',\n",
    "'Employment Type. Employment Type': 'employment_status',\n",
    "'Classification. Classification': 'position',\n",
    "'LengthofServiceOverall. Overall Length of Service at Institute (in years)': 'institute_service',\n",
    "'LengthofServiceCurrent. Length of Service at current workplace (in years)': 'role_service'}\n",
    "\n"
   ]
  },
  {
   "cell_type": "code",
   "execution_count": 1048,
   "metadata": {},
   "outputs": [],
   "source": [
    "tafe_survey_updated = tafe_survey_updated.rename(columns=rename_dict)"
   ]
  },
  {
   "cell_type": "code",
   "execution_count": 1049,
   "metadata": {},
   "outputs": [],
   "source": [
    "tafe_survey_updated.columns = tafe_survey_updated.columns.str.upper()"
   ]
  },
  {
   "cell_type": "code",
   "execution_count": 1050,
   "metadata": {},
   "outputs": [
    {
     "data": {
      "text/html": [
       "<div>\n",
       "<style scoped>\n",
       "    .dataframe tbody tr th:only-of-type {\n",
       "        vertical-align: middle;\n",
       "    }\n",
       "\n",
       "    .dataframe tbody tr th {\n",
       "        vertical-align: top;\n",
       "    }\n",
       "\n",
       "    .dataframe thead th {\n",
       "        text-align: right;\n",
       "    }\n",
       "</style>\n",
       "<table border=\"1\" class=\"dataframe\">\n",
       "  <thead>\n",
       "    <tr style=\"text-align: right;\">\n",
       "      <th></th>\n",
       "      <th>ID</th>\n",
       "      <th>INSTITUTE</th>\n",
       "      <th>WORKAREA</th>\n",
       "      <th>CEASE_DATE</th>\n",
       "      <th>SEPARATIONTYPE</th>\n",
       "      <th>CONTRIBUTING FACTORS. CAREER MOVE - PUBLIC SECTOR</th>\n",
       "      <th>CONTRIBUTING FACTORS. CAREER MOVE - PRIVATE SECTOR</th>\n",
       "      <th>CONTRIBUTING FACTORS. CAREER MOVE - SELF-EMPLOYMENT</th>\n",
       "      <th>CONTRIBUTING FACTORS. ILL HEALTH</th>\n",
       "      <th>CONTRIBUTING FACTORS. MATERNITY/FAMILY</th>\n",
       "      <th>...</th>\n",
       "      <th>CONTRIBUTING FACTORS. STUDY</th>\n",
       "      <th>CONTRIBUTING FACTORS. TRAVEL</th>\n",
       "      <th>CONTRIBUTING FACTORS. OTHER</th>\n",
       "      <th>CONTRIBUTING FACTORS. NONE</th>\n",
       "      <th>GENDER</th>\n",
       "      <th>AGE</th>\n",
       "      <th>EMPLOYMENT_STATUS</th>\n",
       "      <th>POSITION</th>\n",
       "      <th>INSTITUTE_SERVICE</th>\n",
       "      <th>ROLE_SERVICE</th>\n",
       "    </tr>\n",
       "  </thead>\n",
       "  <tbody>\n",
       "    <tr>\n",
       "      <th>0</th>\n",
       "      <td>6.341330e+17</td>\n",
       "      <td>Southern Queensland Institute of TAFE</td>\n",
       "      <td>Non-Delivery (corporate)</td>\n",
       "      <td>2010.0</td>\n",
       "      <td>Contract Expired</td>\n",
       "      <td>NaN</td>\n",
       "      <td>NaN</td>\n",
       "      <td>NaN</td>\n",
       "      <td>NaN</td>\n",
       "      <td>NaN</td>\n",
       "      <td>...</td>\n",
       "      <td>NaN</td>\n",
       "      <td>NaN</td>\n",
       "      <td>NaN</td>\n",
       "      <td>NaN</td>\n",
       "      <td>Female</td>\n",
       "      <td>26  30</td>\n",
       "      <td>Temporary Full-time</td>\n",
       "      <td>Administration (AO)</td>\n",
       "      <td>1-2</td>\n",
       "      <td>1-2</td>\n",
       "    </tr>\n",
       "    <tr>\n",
       "      <th>1</th>\n",
       "      <td>6.341337e+17</td>\n",
       "      <td>Mount Isa Institute of TAFE</td>\n",
       "      <td>Non-Delivery (corporate)</td>\n",
       "      <td>2010.0</td>\n",
       "      <td>Retirement</td>\n",
       "      <td>-</td>\n",
       "      <td>-</td>\n",
       "      <td>-</td>\n",
       "      <td>-</td>\n",
       "      <td>-</td>\n",
       "      <td>...</td>\n",
       "      <td>-</td>\n",
       "      <td>Travel</td>\n",
       "      <td>-</td>\n",
       "      <td>-</td>\n",
       "      <td>NaN</td>\n",
       "      <td>NaN</td>\n",
       "      <td>NaN</td>\n",
       "      <td>NaN</td>\n",
       "      <td>NaN</td>\n",
       "      <td>NaN</td>\n",
       "    </tr>\n",
       "    <tr>\n",
       "      <th>2</th>\n",
       "      <td>6.341388e+17</td>\n",
       "      <td>Mount Isa Institute of TAFE</td>\n",
       "      <td>Delivery (teaching)</td>\n",
       "      <td>2010.0</td>\n",
       "      <td>Retirement</td>\n",
       "      <td>-</td>\n",
       "      <td>-</td>\n",
       "      <td>-</td>\n",
       "      <td>-</td>\n",
       "      <td>-</td>\n",
       "      <td>...</td>\n",
       "      <td>-</td>\n",
       "      <td>-</td>\n",
       "      <td>-</td>\n",
       "      <td>NONE</td>\n",
       "      <td>NaN</td>\n",
       "      <td>NaN</td>\n",
       "      <td>NaN</td>\n",
       "      <td>NaN</td>\n",
       "      <td>NaN</td>\n",
       "      <td>NaN</td>\n",
       "    </tr>\n",
       "    <tr>\n",
       "      <th>3</th>\n",
       "      <td>6.341399e+17</td>\n",
       "      <td>Mount Isa Institute of TAFE</td>\n",
       "      <td>Non-Delivery (corporate)</td>\n",
       "      <td>2010.0</td>\n",
       "      <td>Resignation</td>\n",
       "      <td>-</td>\n",
       "      <td>-</td>\n",
       "      <td>-</td>\n",
       "      <td>-</td>\n",
       "      <td>-</td>\n",
       "      <td>...</td>\n",
       "      <td>-</td>\n",
       "      <td>Travel</td>\n",
       "      <td>-</td>\n",
       "      <td>-</td>\n",
       "      <td>NaN</td>\n",
       "      <td>NaN</td>\n",
       "      <td>NaN</td>\n",
       "      <td>NaN</td>\n",
       "      <td>NaN</td>\n",
       "      <td>NaN</td>\n",
       "    </tr>\n",
       "    <tr>\n",
       "      <th>4</th>\n",
       "      <td>6.341466e+17</td>\n",
       "      <td>Southern Queensland Institute of TAFE</td>\n",
       "      <td>Delivery (teaching)</td>\n",
       "      <td>2010.0</td>\n",
       "      <td>Resignation</td>\n",
       "      <td>-</td>\n",
       "      <td>Career Move - Private Sector</td>\n",
       "      <td>-</td>\n",
       "      <td>-</td>\n",
       "      <td>-</td>\n",
       "      <td>...</td>\n",
       "      <td>-</td>\n",
       "      <td>-</td>\n",
       "      <td>-</td>\n",
       "      <td>-</td>\n",
       "      <td>Male</td>\n",
       "      <td>41  45</td>\n",
       "      <td>Permanent Full-time</td>\n",
       "      <td>Teacher (including LVT)</td>\n",
       "      <td>3-4</td>\n",
       "      <td>3-4</td>\n",
       "    </tr>\n",
       "  </tbody>\n",
       "</table>\n",
       "<p>5 rows × 23 columns</p>\n",
       "</div>"
      ],
      "text/plain": [
       "             ID                              INSTITUTE  \\\n",
       "0  6.341330e+17  Southern Queensland Institute of TAFE   \n",
       "1  6.341337e+17            Mount Isa Institute of TAFE   \n",
       "2  6.341388e+17            Mount Isa Institute of TAFE   \n",
       "3  6.341399e+17            Mount Isa Institute of TAFE   \n",
       "4  6.341466e+17  Southern Queensland Institute of TAFE   \n",
       "\n",
       "                   WORKAREA  CEASE_DATE    SEPARATIONTYPE  \\\n",
       "0  Non-Delivery (corporate)      2010.0  Contract Expired   \n",
       "1  Non-Delivery (corporate)      2010.0        Retirement   \n",
       "2       Delivery (teaching)      2010.0        Retirement   \n",
       "3  Non-Delivery (corporate)      2010.0       Resignation   \n",
       "4       Delivery (teaching)      2010.0       Resignation   \n",
       "\n",
       "  CONTRIBUTING FACTORS. CAREER MOVE - PUBLIC SECTOR   \\\n",
       "0                                                NaN   \n",
       "1                                                  -   \n",
       "2                                                  -   \n",
       "3                                                  -   \n",
       "4                                                  -   \n",
       "\n",
       "  CONTRIBUTING FACTORS. CAREER MOVE - PRIVATE SECTOR   \\\n",
       "0                                                NaN    \n",
       "1                                                  -    \n",
       "2                                                  -    \n",
       "3                                                  -    \n",
       "4                       Career Move - Private Sector    \n",
       "\n",
       "  CONTRIBUTING FACTORS. CAREER MOVE - SELF-EMPLOYMENT  \\\n",
       "0                                                NaN    \n",
       "1                                                  -    \n",
       "2                                                  -    \n",
       "3                                                  -    \n",
       "4                                                  -    \n",
       "\n",
       "  CONTRIBUTING FACTORS. ILL HEALTH CONTRIBUTING FACTORS. MATERNITY/FAMILY  \\\n",
       "0                              NaN                                    NaN   \n",
       "1                                -                                      -   \n",
       "2                                -                                      -   \n",
       "3                                -                                      -   \n",
       "4                                -                                      -   \n",
       "\n",
       "   ... CONTRIBUTING FACTORS. STUDY CONTRIBUTING FACTORS. TRAVEL  \\\n",
       "0  ...                         NaN                          NaN   \n",
       "1  ...                           -                       Travel   \n",
       "2  ...                           -                            -   \n",
       "3  ...                           -                       Travel   \n",
       "4  ...                           -                            -   \n",
       "\n",
       "  CONTRIBUTING FACTORS. OTHER CONTRIBUTING FACTORS. NONE  GENDER     AGE  \\\n",
       "0                         NaN                        NaN  Female  26  30   \n",
       "1                           -                          -     NaN     NaN   \n",
       "2                           -                       NONE     NaN     NaN   \n",
       "3                           -                          -     NaN     NaN   \n",
       "4                           -                          -    Male  41  45   \n",
       "\n",
       "     EMPLOYMENT_STATUS                 POSITION INSTITUTE_SERVICE ROLE_SERVICE  \n",
       "0  Temporary Full-time      Administration (AO)               1-2          1-2  \n",
       "1                  NaN                      NaN               NaN          NaN  \n",
       "2                  NaN                      NaN               NaN          NaN  \n",
       "3                  NaN                      NaN               NaN          NaN  \n",
       "4  Permanent Full-time  Teacher (including LVT)               3-4          3-4  \n",
       "\n",
       "[5 rows x 23 columns]"
      ]
     },
     "execution_count": 1050,
     "metadata": {},
     "output_type": "execute_result"
    }
   ],
   "source": [
    "tafe_survey_updated.head()"
   ]
  },
  {
   "cell_type": "markdown",
   "metadata": {},
   "source": [
    "## Filter the data"
   ]
  },
  {
   "cell_type": "code",
   "execution_count": 1051,
   "metadata": {},
   "outputs": [
    {
     "data": {
      "text/plain": [
       "Age Retirement                          285\n",
       "Resignation-Other reasons               150\n",
       "Resignation-Other employer               91\n",
       "Resignation-Move overseas/interstate     70\n",
       "Voluntary Early Retirement (VER)         67\n",
       "Ill Health Retirement                    61\n",
       "Other                                    49\n",
       "Contract Expired                         34\n",
       "Termination                              15\n",
       "Name: SEPARATIONTYPE, dtype: int64"
      ]
     },
     "execution_count": 1051,
     "metadata": {},
     "output_type": "execute_result"
    }
   ],
   "source": [
    "dete_survey_updated['SEPARATIONTYPE'].value_counts()"
   ]
  },
  {
   "cell_type": "code",
   "execution_count": 1052,
   "metadata": {},
   "outputs": [
    {
     "data": {
      "text/plain": [
       "Resignation                 340\n",
       "Contract Expired            127\n",
       "Retrenchment/ Redundancy    104\n",
       "Retirement                   82\n",
       "Transfer                     25\n",
       "Termination                  23\n",
       "Name: SEPARATIONTYPE, dtype: int64"
      ]
     },
     "execution_count": 1052,
     "metadata": {},
     "output_type": "execute_result"
    }
   ],
   "source": [
    "tafe_survey_updated['SEPARATIONTYPE'].value_counts()"
   ]
  },
  {
   "cell_type": "code",
   "execution_count": 1053,
   "metadata": {},
   "outputs": [],
   "source": [
    "dete_resignations = dete_survey_updated[dete_survey_updated['SEPARATIONTYPE'].str.contains(r\"Resignation.*\")].copy()"
   ]
  },
  {
   "cell_type": "code",
   "execution_count": 1054,
   "metadata": {},
   "outputs": [],
   "source": [
    "tafe_resignations = tafe_survey_updated.copy()[tafe_survey_updated['SEPARATIONTYPE'] == 'Resignation'].copy()"
   ]
  },
  {
   "cell_type": "code",
   "execution_count": 1055,
   "metadata": {},
   "outputs": [
    {
     "data": {
      "text/html": [
       "<div>\n",
       "<style scoped>\n",
       "    .dataframe tbody tr th:only-of-type {\n",
       "        vertical-align: middle;\n",
       "    }\n",
       "\n",
       "    .dataframe tbody tr th {\n",
       "        vertical-align: top;\n",
       "    }\n",
       "\n",
       "    .dataframe thead th {\n",
       "        text-align: right;\n",
       "    }\n",
       "</style>\n",
       "<table border=\"1\" class=\"dataframe\">\n",
       "  <thead>\n",
       "    <tr style=\"text-align: right;\">\n",
       "      <th></th>\n",
       "      <th>ID</th>\n",
       "      <th>INSTITUTE</th>\n",
       "      <th>WORKAREA</th>\n",
       "      <th>CEASE_DATE</th>\n",
       "      <th>SEPARATIONTYPE</th>\n",
       "      <th>CONTRIBUTING FACTORS. CAREER MOVE - PUBLIC SECTOR</th>\n",
       "      <th>CONTRIBUTING FACTORS. CAREER MOVE - PRIVATE SECTOR</th>\n",
       "      <th>CONTRIBUTING FACTORS. CAREER MOVE - SELF-EMPLOYMENT</th>\n",
       "      <th>CONTRIBUTING FACTORS. ILL HEALTH</th>\n",
       "      <th>CONTRIBUTING FACTORS. MATERNITY/FAMILY</th>\n",
       "      <th>...</th>\n",
       "      <th>CONTRIBUTING FACTORS. STUDY</th>\n",
       "      <th>CONTRIBUTING FACTORS. TRAVEL</th>\n",
       "      <th>CONTRIBUTING FACTORS. OTHER</th>\n",
       "      <th>CONTRIBUTING FACTORS. NONE</th>\n",
       "      <th>GENDER</th>\n",
       "      <th>AGE</th>\n",
       "      <th>EMPLOYMENT_STATUS</th>\n",
       "      <th>POSITION</th>\n",
       "      <th>INSTITUTE_SERVICE</th>\n",
       "      <th>ROLE_SERVICE</th>\n",
       "    </tr>\n",
       "  </thead>\n",
       "  <tbody>\n",
       "    <tr>\n",
       "      <th>3</th>\n",
       "      <td>6.341399e+17</td>\n",
       "      <td>Mount Isa Institute of TAFE</td>\n",
       "      <td>Non-Delivery (corporate)</td>\n",
       "      <td>2010.0</td>\n",
       "      <td>Resignation</td>\n",
       "      <td>-</td>\n",
       "      <td>-</td>\n",
       "      <td>-</td>\n",
       "      <td>-</td>\n",
       "      <td>-</td>\n",
       "      <td>...</td>\n",
       "      <td>-</td>\n",
       "      <td>Travel</td>\n",
       "      <td>-</td>\n",
       "      <td>-</td>\n",
       "      <td>NaN</td>\n",
       "      <td>NaN</td>\n",
       "      <td>NaN</td>\n",
       "      <td>NaN</td>\n",
       "      <td>NaN</td>\n",
       "      <td>NaN</td>\n",
       "    </tr>\n",
       "    <tr>\n",
       "      <th>4</th>\n",
       "      <td>6.341466e+17</td>\n",
       "      <td>Southern Queensland Institute of TAFE</td>\n",
       "      <td>Delivery (teaching)</td>\n",
       "      <td>2010.0</td>\n",
       "      <td>Resignation</td>\n",
       "      <td>-</td>\n",
       "      <td>Career Move - Private Sector</td>\n",
       "      <td>-</td>\n",
       "      <td>-</td>\n",
       "      <td>-</td>\n",
       "      <td>...</td>\n",
       "      <td>-</td>\n",
       "      <td>-</td>\n",
       "      <td>-</td>\n",
       "      <td>-</td>\n",
       "      <td>Male</td>\n",
       "      <td>41  45</td>\n",
       "      <td>Permanent Full-time</td>\n",
       "      <td>Teacher (including LVT)</td>\n",
       "      <td>3-4</td>\n",
       "      <td>3-4</td>\n",
       "    </tr>\n",
       "    <tr>\n",
       "      <th>5</th>\n",
       "      <td>6.341475e+17</td>\n",
       "      <td>Southern Queensland Institute of TAFE</td>\n",
       "      <td>Delivery (teaching)</td>\n",
       "      <td>2010.0</td>\n",
       "      <td>Resignation</td>\n",
       "      <td>-</td>\n",
       "      <td>-</td>\n",
       "      <td>-</td>\n",
       "      <td>-</td>\n",
       "      <td>-</td>\n",
       "      <td>...</td>\n",
       "      <td>-</td>\n",
       "      <td>-</td>\n",
       "      <td>Other</td>\n",
       "      <td>-</td>\n",
       "      <td>Female</td>\n",
       "      <td>56 or older</td>\n",
       "      <td>Contract/casual</td>\n",
       "      <td>Teacher (including LVT)</td>\n",
       "      <td>7-10</td>\n",
       "      <td>7-10</td>\n",
       "    </tr>\n",
       "    <tr>\n",
       "      <th>6</th>\n",
       "      <td>6.341520e+17</td>\n",
       "      <td>Barrier Reef Institute of TAFE</td>\n",
       "      <td>Non-Delivery (corporate)</td>\n",
       "      <td>2010.0</td>\n",
       "      <td>Resignation</td>\n",
       "      <td>-</td>\n",
       "      <td>Career Move - Private Sector</td>\n",
       "      <td>-</td>\n",
       "      <td>-</td>\n",
       "      <td>Maternity/Family</td>\n",
       "      <td>...</td>\n",
       "      <td>-</td>\n",
       "      <td>-</td>\n",
       "      <td>Other</td>\n",
       "      <td>-</td>\n",
       "      <td>Male</td>\n",
       "      <td>20 or younger</td>\n",
       "      <td>Temporary Full-time</td>\n",
       "      <td>Administration (AO)</td>\n",
       "      <td>3-4</td>\n",
       "      <td>3-4</td>\n",
       "    </tr>\n",
       "    <tr>\n",
       "      <th>7</th>\n",
       "      <td>6.341537e+17</td>\n",
       "      <td>Southern Queensland Institute of TAFE</td>\n",
       "      <td>Delivery (teaching)</td>\n",
       "      <td>2010.0</td>\n",
       "      <td>Resignation</td>\n",
       "      <td>-</td>\n",
       "      <td>-</td>\n",
       "      <td>-</td>\n",
       "      <td>-</td>\n",
       "      <td>-</td>\n",
       "      <td>...</td>\n",
       "      <td>-</td>\n",
       "      <td>-</td>\n",
       "      <td>Other</td>\n",
       "      <td>-</td>\n",
       "      <td>Male</td>\n",
       "      <td>46  50</td>\n",
       "      <td>Permanent Full-time</td>\n",
       "      <td>Teacher (including LVT)</td>\n",
       "      <td>3-4</td>\n",
       "      <td>3-4</td>\n",
       "    </tr>\n",
       "    <tr>\n",
       "      <th>...</th>\n",
       "      <td>...</td>\n",
       "      <td>...</td>\n",
       "      <td>...</td>\n",
       "      <td>...</td>\n",
       "      <td>...</td>\n",
       "      <td>...</td>\n",
       "      <td>...</td>\n",
       "      <td>...</td>\n",
       "      <td>...</td>\n",
       "      <td>...</td>\n",
       "      <td>...</td>\n",
       "      <td>...</td>\n",
       "      <td>...</td>\n",
       "      <td>...</td>\n",
       "      <td>...</td>\n",
       "      <td>...</td>\n",
       "      <td>...</td>\n",
       "      <td>...</td>\n",
       "      <td>...</td>\n",
       "      <td>...</td>\n",
       "      <td>...</td>\n",
       "    </tr>\n",
       "    <tr>\n",
       "      <th>696</th>\n",
       "      <td>6.350660e+17</td>\n",
       "      <td>Southern Queensland Institute of TAFE</td>\n",
       "      <td>Non-Delivery (corporate)</td>\n",
       "      <td>2013.0</td>\n",
       "      <td>Resignation</td>\n",
       "      <td>-</td>\n",
       "      <td>Career Move - Private Sector</td>\n",
       "      <td>-</td>\n",
       "      <td>-</td>\n",
       "      <td>-</td>\n",
       "      <td>...</td>\n",
       "      <td>-</td>\n",
       "      <td>-</td>\n",
       "      <td>-</td>\n",
       "      <td>-</td>\n",
       "      <td>Male</td>\n",
       "      <td>21  25</td>\n",
       "      <td>Temporary Full-time</td>\n",
       "      <td>Operational (OO)</td>\n",
       "      <td>5-6</td>\n",
       "      <td>5-6</td>\n",
       "    </tr>\n",
       "    <tr>\n",
       "      <th>697</th>\n",
       "      <td>6.350668e+17</td>\n",
       "      <td>Barrier Reef Institute of TAFE</td>\n",
       "      <td>Delivery (teaching)</td>\n",
       "      <td>2013.0</td>\n",
       "      <td>Resignation</td>\n",
       "      <td>Career Move - Public Sector</td>\n",
       "      <td>-</td>\n",
       "      <td>-</td>\n",
       "      <td>-</td>\n",
       "      <td>-</td>\n",
       "      <td>...</td>\n",
       "      <td>-</td>\n",
       "      <td>-</td>\n",
       "      <td>-</td>\n",
       "      <td>-</td>\n",
       "      <td>Male</td>\n",
       "      <td>51-55</td>\n",
       "      <td>Temporary Full-time</td>\n",
       "      <td>Teacher (including LVT)</td>\n",
       "      <td>1-2</td>\n",
       "      <td>1-2</td>\n",
       "    </tr>\n",
       "    <tr>\n",
       "      <th>698</th>\n",
       "      <td>6.350677e+17</td>\n",
       "      <td>Southern Queensland Institute of TAFE</td>\n",
       "      <td>Non-Delivery (corporate)</td>\n",
       "      <td>2013.0</td>\n",
       "      <td>Resignation</td>\n",
       "      <td>Career Move - Public Sector</td>\n",
       "      <td>-</td>\n",
       "      <td>-</td>\n",
       "      <td>-</td>\n",
       "      <td>-</td>\n",
       "      <td>...</td>\n",
       "      <td>-</td>\n",
       "      <td>-</td>\n",
       "      <td>-</td>\n",
       "      <td>-</td>\n",
       "      <td>NaN</td>\n",
       "      <td>NaN</td>\n",
       "      <td>NaN</td>\n",
       "      <td>NaN</td>\n",
       "      <td>NaN</td>\n",
       "      <td>NaN</td>\n",
       "    </tr>\n",
       "    <tr>\n",
       "      <th>699</th>\n",
       "      <td>6.350704e+17</td>\n",
       "      <td>Tropical North Institute of TAFE</td>\n",
       "      <td>Delivery (teaching)</td>\n",
       "      <td>2013.0</td>\n",
       "      <td>Resignation</td>\n",
       "      <td>-</td>\n",
       "      <td>-</td>\n",
       "      <td>-</td>\n",
       "      <td>-</td>\n",
       "      <td>-</td>\n",
       "      <td>...</td>\n",
       "      <td>-</td>\n",
       "      <td>-</td>\n",
       "      <td>Other</td>\n",
       "      <td>-</td>\n",
       "      <td>Female</td>\n",
       "      <td>51-55</td>\n",
       "      <td>Permanent Full-time</td>\n",
       "      <td>Teacher (including LVT)</td>\n",
       "      <td>5-6</td>\n",
       "      <td>1-2</td>\n",
       "    </tr>\n",
       "    <tr>\n",
       "      <th>701</th>\n",
       "      <td>6.350730e+17</td>\n",
       "      <td>Tropical North Institute of TAFE</td>\n",
       "      <td>Non-Delivery (corporate)</td>\n",
       "      <td>2013.0</td>\n",
       "      <td>Resignation</td>\n",
       "      <td>-</td>\n",
       "      <td>-</td>\n",
       "      <td>Career Move - Self-employment</td>\n",
       "      <td>-</td>\n",
       "      <td>-</td>\n",
       "      <td>...</td>\n",
       "      <td>-</td>\n",
       "      <td>Travel</td>\n",
       "      <td>-</td>\n",
       "      <td>-</td>\n",
       "      <td>Female</td>\n",
       "      <td>26  30</td>\n",
       "      <td>Contract/casual</td>\n",
       "      <td>Administration (AO)</td>\n",
       "      <td>3-4</td>\n",
       "      <td>1-2</td>\n",
       "    </tr>\n",
       "  </tbody>\n",
       "</table>\n",
       "<p>340 rows × 23 columns</p>\n",
       "</div>"
      ],
      "text/plain": [
       "               ID                              INSTITUTE  \\\n",
       "3    6.341399e+17            Mount Isa Institute of TAFE   \n",
       "4    6.341466e+17  Southern Queensland Institute of TAFE   \n",
       "5    6.341475e+17  Southern Queensland Institute of TAFE   \n",
       "6    6.341520e+17         Barrier Reef Institute of TAFE   \n",
       "7    6.341537e+17  Southern Queensland Institute of TAFE   \n",
       "..            ...                                    ...   \n",
       "696  6.350660e+17  Southern Queensland Institute of TAFE   \n",
       "697  6.350668e+17         Barrier Reef Institute of TAFE   \n",
       "698  6.350677e+17  Southern Queensland Institute of TAFE   \n",
       "699  6.350704e+17       Tropical North Institute of TAFE   \n",
       "701  6.350730e+17       Tropical North Institute of TAFE   \n",
       "\n",
       "                     WORKAREA  CEASE_DATE SEPARATIONTYPE  \\\n",
       "3    Non-Delivery (corporate)      2010.0    Resignation   \n",
       "4         Delivery (teaching)      2010.0    Resignation   \n",
       "5         Delivery (teaching)      2010.0    Resignation   \n",
       "6    Non-Delivery (corporate)      2010.0    Resignation   \n",
       "7         Delivery (teaching)      2010.0    Resignation   \n",
       "..                        ...         ...            ...   \n",
       "696  Non-Delivery (corporate)      2013.0    Resignation   \n",
       "697       Delivery (teaching)      2013.0    Resignation   \n",
       "698  Non-Delivery (corporate)      2013.0    Resignation   \n",
       "699       Delivery (teaching)      2013.0    Resignation   \n",
       "701  Non-Delivery (corporate)      2013.0    Resignation   \n",
       "\n",
       "    CONTRIBUTING FACTORS. CAREER MOVE - PUBLIC SECTOR   \\\n",
       "3                                                    -   \n",
       "4                                                    -   \n",
       "5                                                    -   \n",
       "6                                                    -   \n",
       "7                                                    -   \n",
       "..                                                 ...   \n",
       "696                                                  -   \n",
       "697                        Career Move - Public Sector   \n",
       "698                        Career Move - Public Sector   \n",
       "699                                                  -   \n",
       "701                                                  -   \n",
       "\n",
       "    CONTRIBUTING FACTORS. CAREER MOVE - PRIVATE SECTOR   \\\n",
       "3                                                    -    \n",
       "4                         Career Move - Private Sector    \n",
       "5                                                    -    \n",
       "6                         Career Move - Private Sector    \n",
       "7                                                    -    \n",
       "..                                                 ...    \n",
       "696                       Career Move - Private Sector    \n",
       "697                                                  -    \n",
       "698                                                  -    \n",
       "699                                                  -    \n",
       "701                                                  -    \n",
       "\n",
       "    CONTRIBUTING FACTORS. CAREER MOVE - SELF-EMPLOYMENT  \\\n",
       "3                                                    -    \n",
       "4                                                    -    \n",
       "5                                                    -    \n",
       "6                                                    -    \n",
       "7                                                    -    \n",
       "..                                                 ...    \n",
       "696                                                  -    \n",
       "697                                                  -    \n",
       "698                                                  -    \n",
       "699                                                  -    \n",
       "701                      Career Move - Self-employment    \n",
       "\n",
       "    CONTRIBUTING FACTORS. ILL HEALTH CONTRIBUTING FACTORS. MATERNITY/FAMILY  \\\n",
       "3                                  -                                      -   \n",
       "4                                  -                                      -   \n",
       "5                                  -                                      -   \n",
       "6                                  -                       Maternity/Family   \n",
       "7                                  -                                      -   \n",
       "..                               ...                                    ...   \n",
       "696                                -                                      -   \n",
       "697                                -                                      -   \n",
       "698                                -                                      -   \n",
       "699                                -                                      -   \n",
       "701                                -                                      -   \n",
       "\n",
       "     ... CONTRIBUTING FACTORS. STUDY CONTRIBUTING FACTORS. TRAVEL  \\\n",
       "3    ...                           -                       Travel   \n",
       "4    ...                           -                            -   \n",
       "5    ...                           -                            -   \n",
       "6    ...                           -                            -   \n",
       "7    ...                           -                            -   \n",
       "..   ...                         ...                          ...   \n",
       "696  ...                           -                            -   \n",
       "697  ...                           -                            -   \n",
       "698  ...                           -                            -   \n",
       "699  ...                           -                            -   \n",
       "701  ...                           -                       Travel   \n",
       "\n",
       "    CONTRIBUTING FACTORS. OTHER CONTRIBUTING FACTORS. NONE  GENDER  \\\n",
       "3                             -                          -     NaN   \n",
       "4                             -                          -    Male   \n",
       "5                         Other                          -  Female   \n",
       "6                         Other                          -    Male   \n",
       "7                         Other                          -    Male   \n",
       "..                          ...                        ...     ...   \n",
       "696                           -                          -    Male   \n",
       "697                           -                          -    Male   \n",
       "698                           -                          -     NaN   \n",
       "699                       Other                          -  Female   \n",
       "701                           -                          -  Female   \n",
       "\n",
       "               AGE    EMPLOYMENT_STATUS                 POSITION  \\\n",
       "3              NaN                  NaN                      NaN   \n",
       "4           41  45  Permanent Full-time  Teacher (including LVT)   \n",
       "5      56 or older      Contract/casual  Teacher (including LVT)   \n",
       "6    20 or younger  Temporary Full-time      Administration (AO)   \n",
       "7           46  50  Permanent Full-time  Teacher (including LVT)   \n",
       "..             ...                  ...                      ...   \n",
       "696         21  25  Temporary Full-time         Operational (OO)   \n",
       "697          51-55  Temporary Full-time  Teacher (including LVT)   \n",
       "698            NaN                  NaN                      NaN   \n",
       "699          51-55  Permanent Full-time  Teacher (including LVT)   \n",
       "701         26  30      Contract/casual      Administration (AO)   \n",
       "\n",
       "    INSTITUTE_SERVICE ROLE_SERVICE  \n",
       "3                 NaN          NaN  \n",
       "4                 3-4          3-4  \n",
       "5                7-10         7-10  \n",
       "6                 3-4          3-4  \n",
       "7                 3-4          3-4  \n",
       "..                ...          ...  \n",
       "696               5-6          5-6  \n",
       "697               1-2          1-2  \n",
       "698               NaN          NaN  \n",
       "699               5-6          1-2  \n",
       "701               3-4          1-2  \n",
       "\n",
       "[340 rows x 23 columns]"
      ]
     },
     "execution_count": 1055,
     "metadata": {},
     "output_type": "execute_result"
    }
   ],
   "source": [
    "tafe_resignations"
   ]
  },
  {
   "cell_type": "code",
   "execution_count": 1056,
   "metadata": {},
   "outputs": [
    {
     "data": {
      "text/plain": [
       "Resignation    340\n",
       "Name: SEPARATIONTYPE, dtype: int64"
      ]
     },
     "execution_count": 1056,
     "metadata": {},
     "output_type": "execute_result"
    }
   ],
   "source": [
    "tafe_resignations['SEPARATIONTYPE'].value_counts()"
   ]
  },
  {
   "cell_type": "markdown",
   "metadata": {},
   "source": [
    "### Verify the data"
   ]
  },
  {
   "cell_type": "code",
   "execution_count": 1057,
   "metadata": {},
   "outputs": [
    {
     "data": {
      "text/html": [
       "<div>\n",
       "<style scoped>\n",
       "    .dataframe tbody tr th:only-of-type {\n",
       "        vertical-align: middle;\n",
       "    }\n",
       "\n",
       "    .dataframe tbody tr th {\n",
       "        vertical-align: top;\n",
       "    }\n",
       "\n",
       "    .dataframe thead th {\n",
       "        text-align: right;\n",
       "    }\n",
       "</style>\n",
       "<table border=\"1\" class=\"dataframe\">\n",
       "  <thead>\n",
       "    <tr style=\"text-align: right;\">\n",
       "      <th></th>\n",
       "      <th>ID</th>\n",
       "      <th>INSTITUTE</th>\n",
       "      <th>WORKAREA</th>\n",
       "      <th>CEASE_DATE</th>\n",
       "      <th>SEPARATIONTYPE</th>\n",
       "      <th>CONTRIBUTING FACTORS. CAREER MOVE - PUBLIC SECTOR</th>\n",
       "      <th>CONTRIBUTING FACTORS. CAREER MOVE - PRIVATE SECTOR</th>\n",
       "      <th>CONTRIBUTING FACTORS. CAREER MOVE - SELF-EMPLOYMENT</th>\n",
       "      <th>CONTRIBUTING FACTORS. ILL HEALTH</th>\n",
       "      <th>CONTRIBUTING FACTORS. MATERNITY/FAMILY</th>\n",
       "      <th>...</th>\n",
       "      <th>CONTRIBUTING FACTORS. STUDY</th>\n",
       "      <th>CONTRIBUTING FACTORS. TRAVEL</th>\n",
       "      <th>CONTRIBUTING FACTORS. OTHER</th>\n",
       "      <th>CONTRIBUTING FACTORS. NONE</th>\n",
       "      <th>GENDER</th>\n",
       "      <th>AGE</th>\n",
       "      <th>EMPLOYMENT_STATUS</th>\n",
       "      <th>POSITION</th>\n",
       "      <th>INSTITUTE_SERVICE</th>\n",
       "      <th>ROLE_SERVICE</th>\n",
       "    </tr>\n",
       "  </thead>\n",
       "  <tbody>\n",
       "    <tr>\n",
       "      <th>3</th>\n",
       "      <td>6.341399e+17</td>\n",
       "      <td>Mount Isa Institute of TAFE</td>\n",
       "      <td>Non-Delivery (corporate)</td>\n",
       "      <td>2010.0</td>\n",
       "      <td>Resignation</td>\n",
       "      <td>-</td>\n",
       "      <td>-</td>\n",
       "      <td>-</td>\n",
       "      <td>-</td>\n",
       "      <td>-</td>\n",
       "      <td>...</td>\n",
       "      <td>-</td>\n",
       "      <td>Travel</td>\n",
       "      <td>-</td>\n",
       "      <td>-</td>\n",
       "      <td>NaN</td>\n",
       "      <td>NaN</td>\n",
       "      <td>NaN</td>\n",
       "      <td>NaN</td>\n",
       "      <td>NaN</td>\n",
       "      <td>NaN</td>\n",
       "    </tr>\n",
       "    <tr>\n",
       "      <th>4</th>\n",
       "      <td>6.341466e+17</td>\n",
       "      <td>Southern Queensland Institute of TAFE</td>\n",
       "      <td>Delivery (teaching)</td>\n",
       "      <td>2010.0</td>\n",
       "      <td>Resignation</td>\n",
       "      <td>-</td>\n",
       "      <td>Career Move - Private Sector</td>\n",
       "      <td>-</td>\n",
       "      <td>-</td>\n",
       "      <td>-</td>\n",
       "      <td>...</td>\n",
       "      <td>-</td>\n",
       "      <td>-</td>\n",
       "      <td>-</td>\n",
       "      <td>-</td>\n",
       "      <td>Male</td>\n",
       "      <td>41  45</td>\n",
       "      <td>Permanent Full-time</td>\n",
       "      <td>Teacher (including LVT)</td>\n",
       "      <td>3-4</td>\n",
       "      <td>3-4</td>\n",
       "    </tr>\n",
       "    <tr>\n",
       "      <th>5</th>\n",
       "      <td>6.341475e+17</td>\n",
       "      <td>Southern Queensland Institute of TAFE</td>\n",
       "      <td>Delivery (teaching)</td>\n",
       "      <td>2010.0</td>\n",
       "      <td>Resignation</td>\n",
       "      <td>-</td>\n",
       "      <td>-</td>\n",
       "      <td>-</td>\n",
       "      <td>-</td>\n",
       "      <td>-</td>\n",
       "      <td>...</td>\n",
       "      <td>-</td>\n",
       "      <td>-</td>\n",
       "      <td>Other</td>\n",
       "      <td>-</td>\n",
       "      <td>Female</td>\n",
       "      <td>56 or older</td>\n",
       "      <td>Contract/casual</td>\n",
       "      <td>Teacher (including LVT)</td>\n",
       "      <td>7-10</td>\n",
       "      <td>7-10</td>\n",
       "    </tr>\n",
       "    <tr>\n",
       "      <th>6</th>\n",
       "      <td>6.341520e+17</td>\n",
       "      <td>Barrier Reef Institute of TAFE</td>\n",
       "      <td>Non-Delivery (corporate)</td>\n",
       "      <td>2010.0</td>\n",
       "      <td>Resignation</td>\n",
       "      <td>-</td>\n",
       "      <td>Career Move - Private Sector</td>\n",
       "      <td>-</td>\n",
       "      <td>-</td>\n",
       "      <td>Maternity/Family</td>\n",
       "      <td>...</td>\n",
       "      <td>-</td>\n",
       "      <td>-</td>\n",
       "      <td>Other</td>\n",
       "      <td>-</td>\n",
       "      <td>Male</td>\n",
       "      <td>20 or younger</td>\n",
       "      <td>Temporary Full-time</td>\n",
       "      <td>Administration (AO)</td>\n",
       "      <td>3-4</td>\n",
       "      <td>3-4</td>\n",
       "    </tr>\n",
       "    <tr>\n",
       "      <th>7</th>\n",
       "      <td>6.341537e+17</td>\n",
       "      <td>Southern Queensland Institute of TAFE</td>\n",
       "      <td>Delivery (teaching)</td>\n",
       "      <td>2010.0</td>\n",
       "      <td>Resignation</td>\n",
       "      <td>-</td>\n",
       "      <td>-</td>\n",
       "      <td>-</td>\n",
       "      <td>-</td>\n",
       "      <td>-</td>\n",
       "      <td>...</td>\n",
       "      <td>-</td>\n",
       "      <td>-</td>\n",
       "      <td>Other</td>\n",
       "      <td>-</td>\n",
       "      <td>Male</td>\n",
       "      <td>46  50</td>\n",
       "      <td>Permanent Full-time</td>\n",
       "      <td>Teacher (including LVT)</td>\n",
       "      <td>3-4</td>\n",
       "      <td>3-4</td>\n",
       "    </tr>\n",
       "    <tr>\n",
       "      <th>...</th>\n",
       "      <td>...</td>\n",
       "      <td>...</td>\n",
       "      <td>...</td>\n",
       "      <td>...</td>\n",
       "      <td>...</td>\n",
       "      <td>...</td>\n",
       "      <td>...</td>\n",
       "      <td>...</td>\n",
       "      <td>...</td>\n",
       "      <td>...</td>\n",
       "      <td>...</td>\n",
       "      <td>...</td>\n",
       "      <td>...</td>\n",
       "      <td>...</td>\n",
       "      <td>...</td>\n",
       "      <td>...</td>\n",
       "      <td>...</td>\n",
       "      <td>...</td>\n",
       "      <td>...</td>\n",
       "      <td>...</td>\n",
       "      <td>...</td>\n",
       "    </tr>\n",
       "    <tr>\n",
       "      <th>696</th>\n",
       "      <td>6.350660e+17</td>\n",
       "      <td>Southern Queensland Institute of TAFE</td>\n",
       "      <td>Non-Delivery (corporate)</td>\n",
       "      <td>2013.0</td>\n",
       "      <td>Resignation</td>\n",
       "      <td>-</td>\n",
       "      <td>Career Move - Private Sector</td>\n",
       "      <td>-</td>\n",
       "      <td>-</td>\n",
       "      <td>-</td>\n",
       "      <td>...</td>\n",
       "      <td>-</td>\n",
       "      <td>-</td>\n",
       "      <td>-</td>\n",
       "      <td>-</td>\n",
       "      <td>Male</td>\n",
       "      <td>21  25</td>\n",
       "      <td>Temporary Full-time</td>\n",
       "      <td>Operational (OO)</td>\n",
       "      <td>5-6</td>\n",
       "      <td>5-6</td>\n",
       "    </tr>\n",
       "    <tr>\n",
       "      <th>697</th>\n",
       "      <td>6.350668e+17</td>\n",
       "      <td>Barrier Reef Institute of TAFE</td>\n",
       "      <td>Delivery (teaching)</td>\n",
       "      <td>2013.0</td>\n",
       "      <td>Resignation</td>\n",
       "      <td>Career Move - Public Sector</td>\n",
       "      <td>-</td>\n",
       "      <td>-</td>\n",
       "      <td>-</td>\n",
       "      <td>-</td>\n",
       "      <td>...</td>\n",
       "      <td>-</td>\n",
       "      <td>-</td>\n",
       "      <td>-</td>\n",
       "      <td>-</td>\n",
       "      <td>Male</td>\n",
       "      <td>51-55</td>\n",
       "      <td>Temporary Full-time</td>\n",
       "      <td>Teacher (including LVT)</td>\n",
       "      <td>1-2</td>\n",
       "      <td>1-2</td>\n",
       "    </tr>\n",
       "    <tr>\n",
       "      <th>698</th>\n",
       "      <td>6.350677e+17</td>\n",
       "      <td>Southern Queensland Institute of TAFE</td>\n",
       "      <td>Non-Delivery (corporate)</td>\n",
       "      <td>2013.0</td>\n",
       "      <td>Resignation</td>\n",
       "      <td>Career Move - Public Sector</td>\n",
       "      <td>-</td>\n",
       "      <td>-</td>\n",
       "      <td>-</td>\n",
       "      <td>-</td>\n",
       "      <td>...</td>\n",
       "      <td>-</td>\n",
       "      <td>-</td>\n",
       "      <td>-</td>\n",
       "      <td>-</td>\n",
       "      <td>NaN</td>\n",
       "      <td>NaN</td>\n",
       "      <td>NaN</td>\n",
       "      <td>NaN</td>\n",
       "      <td>NaN</td>\n",
       "      <td>NaN</td>\n",
       "    </tr>\n",
       "    <tr>\n",
       "      <th>699</th>\n",
       "      <td>6.350704e+17</td>\n",
       "      <td>Tropical North Institute of TAFE</td>\n",
       "      <td>Delivery (teaching)</td>\n",
       "      <td>2013.0</td>\n",
       "      <td>Resignation</td>\n",
       "      <td>-</td>\n",
       "      <td>-</td>\n",
       "      <td>-</td>\n",
       "      <td>-</td>\n",
       "      <td>-</td>\n",
       "      <td>...</td>\n",
       "      <td>-</td>\n",
       "      <td>-</td>\n",
       "      <td>Other</td>\n",
       "      <td>-</td>\n",
       "      <td>Female</td>\n",
       "      <td>51-55</td>\n",
       "      <td>Permanent Full-time</td>\n",
       "      <td>Teacher (including LVT)</td>\n",
       "      <td>5-6</td>\n",
       "      <td>1-2</td>\n",
       "    </tr>\n",
       "    <tr>\n",
       "      <th>701</th>\n",
       "      <td>6.350730e+17</td>\n",
       "      <td>Tropical North Institute of TAFE</td>\n",
       "      <td>Non-Delivery (corporate)</td>\n",
       "      <td>2013.0</td>\n",
       "      <td>Resignation</td>\n",
       "      <td>-</td>\n",
       "      <td>-</td>\n",
       "      <td>Career Move - Self-employment</td>\n",
       "      <td>-</td>\n",
       "      <td>-</td>\n",
       "      <td>...</td>\n",
       "      <td>-</td>\n",
       "      <td>Travel</td>\n",
       "      <td>-</td>\n",
       "      <td>-</td>\n",
       "      <td>Female</td>\n",
       "      <td>26  30</td>\n",
       "      <td>Contract/casual</td>\n",
       "      <td>Administration (AO)</td>\n",
       "      <td>3-4</td>\n",
       "      <td>1-2</td>\n",
       "    </tr>\n",
       "  </tbody>\n",
       "</table>\n",
       "<p>340 rows × 23 columns</p>\n",
       "</div>"
      ],
      "text/plain": [
       "               ID                              INSTITUTE  \\\n",
       "3    6.341399e+17            Mount Isa Institute of TAFE   \n",
       "4    6.341466e+17  Southern Queensland Institute of TAFE   \n",
       "5    6.341475e+17  Southern Queensland Institute of TAFE   \n",
       "6    6.341520e+17         Barrier Reef Institute of TAFE   \n",
       "7    6.341537e+17  Southern Queensland Institute of TAFE   \n",
       "..            ...                                    ...   \n",
       "696  6.350660e+17  Southern Queensland Institute of TAFE   \n",
       "697  6.350668e+17         Barrier Reef Institute of TAFE   \n",
       "698  6.350677e+17  Southern Queensland Institute of TAFE   \n",
       "699  6.350704e+17       Tropical North Institute of TAFE   \n",
       "701  6.350730e+17       Tropical North Institute of TAFE   \n",
       "\n",
       "                     WORKAREA  CEASE_DATE SEPARATIONTYPE  \\\n",
       "3    Non-Delivery (corporate)      2010.0    Resignation   \n",
       "4         Delivery (teaching)      2010.0    Resignation   \n",
       "5         Delivery (teaching)      2010.0    Resignation   \n",
       "6    Non-Delivery (corporate)      2010.0    Resignation   \n",
       "7         Delivery (teaching)      2010.0    Resignation   \n",
       "..                        ...         ...            ...   \n",
       "696  Non-Delivery (corporate)      2013.0    Resignation   \n",
       "697       Delivery (teaching)      2013.0    Resignation   \n",
       "698  Non-Delivery (corporate)      2013.0    Resignation   \n",
       "699       Delivery (teaching)      2013.0    Resignation   \n",
       "701  Non-Delivery (corporate)      2013.0    Resignation   \n",
       "\n",
       "    CONTRIBUTING FACTORS. CAREER MOVE - PUBLIC SECTOR   \\\n",
       "3                                                    -   \n",
       "4                                                    -   \n",
       "5                                                    -   \n",
       "6                                                    -   \n",
       "7                                                    -   \n",
       "..                                                 ...   \n",
       "696                                                  -   \n",
       "697                        Career Move - Public Sector   \n",
       "698                        Career Move - Public Sector   \n",
       "699                                                  -   \n",
       "701                                                  -   \n",
       "\n",
       "    CONTRIBUTING FACTORS. CAREER MOVE - PRIVATE SECTOR   \\\n",
       "3                                                    -    \n",
       "4                         Career Move - Private Sector    \n",
       "5                                                    -    \n",
       "6                         Career Move - Private Sector    \n",
       "7                                                    -    \n",
       "..                                                 ...    \n",
       "696                       Career Move - Private Sector    \n",
       "697                                                  -    \n",
       "698                                                  -    \n",
       "699                                                  -    \n",
       "701                                                  -    \n",
       "\n",
       "    CONTRIBUTING FACTORS. CAREER MOVE - SELF-EMPLOYMENT  \\\n",
       "3                                                    -    \n",
       "4                                                    -    \n",
       "5                                                    -    \n",
       "6                                                    -    \n",
       "7                                                    -    \n",
       "..                                                 ...    \n",
       "696                                                  -    \n",
       "697                                                  -    \n",
       "698                                                  -    \n",
       "699                                                  -    \n",
       "701                      Career Move - Self-employment    \n",
       "\n",
       "    CONTRIBUTING FACTORS. ILL HEALTH CONTRIBUTING FACTORS. MATERNITY/FAMILY  \\\n",
       "3                                  -                                      -   \n",
       "4                                  -                                      -   \n",
       "5                                  -                                      -   \n",
       "6                                  -                       Maternity/Family   \n",
       "7                                  -                                      -   \n",
       "..                               ...                                    ...   \n",
       "696                                -                                      -   \n",
       "697                                -                                      -   \n",
       "698                                -                                      -   \n",
       "699                                -                                      -   \n",
       "701                                -                                      -   \n",
       "\n",
       "     ... CONTRIBUTING FACTORS. STUDY CONTRIBUTING FACTORS. TRAVEL  \\\n",
       "3    ...                           -                       Travel   \n",
       "4    ...                           -                            -   \n",
       "5    ...                           -                            -   \n",
       "6    ...                           -                            -   \n",
       "7    ...                           -                            -   \n",
       "..   ...                         ...                          ...   \n",
       "696  ...                           -                            -   \n",
       "697  ...                           -                            -   \n",
       "698  ...                           -                            -   \n",
       "699  ...                           -                            -   \n",
       "701  ...                           -                       Travel   \n",
       "\n",
       "    CONTRIBUTING FACTORS. OTHER CONTRIBUTING FACTORS. NONE  GENDER  \\\n",
       "3                             -                          -     NaN   \n",
       "4                             -                          -    Male   \n",
       "5                         Other                          -  Female   \n",
       "6                         Other                          -    Male   \n",
       "7                         Other                          -    Male   \n",
       "..                          ...                        ...     ...   \n",
       "696                           -                          -    Male   \n",
       "697                           -                          -    Male   \n",
       "698                           -                          -     NaN   \n",
       "699                       Other                          -  Female   \n",
       "701                           -                          -  Female   \n",
       "\n",
       "               AGE    EMPLOYMENT_STATUS                 POSITION  \\\n",
       "3              NaN                  NaN                      NaN   \n",
       "4           41  45  Permanent Full-time  Teacher (including LVT)   \n",
       "5      56 or older      Contract/casual  Teacher (including LVT)   \n",
       "6    20 or younger  Temporary Full-time      Administration (AO)   \n",
       "7           46  50  Permanent Full-time  Teacher (including LVT)   \n",
       "..             ...                  ...                      ...   \n",
       "696         21  25  Temporary Full-time         Operational (OO)   \n",
       "697          51-55  Temporary Full-time  Teacher (including LVT)   \n",
       "698            NaN                  NaN                      NaN   \n",
       "699          51-55  Permanent Full-time  Teacher (including LVT)   \n",
       "701         26  30      Contract/casual      Administration (AO)   \n",
       "\n",
       "    INSTITUTE_SERVICE ROLE_SERVICE  \n",
       "3                 NaN          NaN  \n",
       "4                 3-4          3-4  \n",
       "5                7-10         7-10  \n",
       "6                 3-4          3-4  \n",
       "7                 3-4          3-4  \n",
       "..                ...          ...  \n",
       "696               5-6          5-6  \n",
       "697               1-2          1-2  \n",
       "698               NaN          NaN  \n",
       "699               5-6          1-2  \n",
       "701               3-4          1-2  \n",
       "\n",
       "[340 rows x 23 columns]"
      ]
     },
     "execution_count": 1057,
     "metadata": {},
     "output_type": "execute_result"
    }
   ],
   "source": [
    "tafe_resignations"
   ]
  },
  {
   "cell_type": "code",
   "execution_count": 1058,
   "metadata": {},
   "outputs": [
    {
     "data": {
      "text/plain": [
       "2012       126\n",
       "2013        74\n",
       "01/2014     22\n",
       "12/2013     17\n",
       "06/2013     14\n",
       "09/2013     11\n",
       "07/2013      9\n",
       "11/2013      9\n",
       "10/2013      6\n",
       "08/2013      4\n",
       "05/2013      2\n",
       "05/2012      2\n",
       "2010         1\n",
       "07/2012      1\n",
       "07/2006      1\n",
       "09/2010      1\n",
       "Name: CEASE_DATE, dtype: int64"
      ]
     },
     "execution_count": 1058,
     "metadata": {},
     "output_type": "execute_result"
    }
   ],
   "source": [
    "dete_resignations['CEASE_DATE'].value_counts()"
   ]
  },
  {
   "cell_type": "code",
   "execution_count": 1059,
   "metadata": {},
   "outputs": [],
   "source": [
    "dete_resignations['CEASE_YEAR'] = dete_resignations['CEASE_DATE'].str.extract(r'([1-2]{1}[0-9]{3})').astype(float)"
   ]
  },
  {
   "cell_type": "code",
   "execution_count": 1060,
   "metadata": {},
   "outputs": [
    {
     "data": {
      "text/plain": [
       "2013.0    146\n",
       "2012.0    129\n",
       "2014.0     22\n",
       "2010.0      2\n",
       "2006.0      1\n",
       "Name: CEASE_YEAR, dtype: int64"
      ]
     },
     "execution_count": 1060,
     "metadata": {},
     "output_type": "execute_result"
    }
   ],
   "source": [
    "dete_resignations['CEASE_YEAR'].value_counts()"
   ]
  },
  {
   "cell_type": "code",
   "execution_count": 1061,
   "metadata": {},
   "outputs": [
    {
     "data": {
      "text/plain": [
       "2013        74\n",
       "2012       126\n",
       "2010         1\n",
       "12/2013     17\n",
       "11/2013      9\n",
       "10/2013      6\n",
       "09/2013     11\n",
       "09/2010      1\n",
       "08/2013      4\n",
       "07/2013      9\n",
       "07/2012      1\n",
       "07/2006      1\n",
       "06/2013     14\n",
       "05/2013      2\n",
       "05/2012      2\n",
       "01/2014     22\n",
       "Name: CEASE_DATE, dtype: int64"
      ]
     },
     "execution_count": 1061,
     "metadata": {},
     "output_type": "execute_result"
    }
   ],
   "source": [
    "dete_resignations['CEASE_DATE'].value_counts().sort_index(ascending=False)"
   ]
  },
  {
   "cell_type": "code",
   "execution_count": 1062,
   "metadata": {},
   "outputs": [
    {
     "data": {
      "text/plain": [
       "2013.0    10\n",
       "2012.0    21\n",
       "2011.0    24\n",
       "2010.0    17\n",
       "2009.0    13\n",
       "2008.0    22\n",
       "2007.0    21\n",
       "2006.0    13\n",
       "2005.0    15\n",
       "2004.0    14\n",
       "2003.0     6\n",
       "2002.0     6\n",
       "2001.0     3\n",
       "2000.0     9\n",
       "1999.0     8\n",
       "1998.0     6\n",
       "1997.0     5\n",
       "1996.0     6\n",
       "1995.0     4\n",
       "1994.0     6\n",
       "1993.0     5\n",
       "1992.0     6\n",
       "1991.0     4\n",
       "1990.0     5\n",
       "1989.0     4\n",
       "1988.0     4\n",
       "1987.0     1\n",
       "1986.0     3\n",
       "1985.0     3\n",
       "1984.0     1\n",
       "1983.0     2\n",
       "1982.0     1\n",
       "1980.0     5\n",
       "1977.0     1\n",
       "1976.0     2\n",
       "1975.0     1\n",
       "1974.0     2\n",
       "1973.0     1\n",
       "1972.0     1\n",
       "1971.0     1\n",
       "1963.0     1\n",
       "Name: DETE_START_DATE, dtype: int64"
      ]
     },
     "execution_count": 1062,
     "metadata": {},
     "output_type": "execute_result"
    }
   ],
   "source": [
    "dete_resignations['DETE_START_DATE'].value_counts().sort_index(ascending=False)"
   ]
  },
  {
   "cell_type": "code",
   "execution_count": 1063,
   "metadata": {},
   "outputs": [
    {
     "data": {
      "text/plain": [
       "2011.0    116\n",
       "2012.0     94\n",
       "2010.0     68\n",
       "2013.0     55\n",
       "2009.0      2\n",
       "Name: CEASE_DATE, dtype: int64"
      ]
     },
     "execution_count": 1063,
     "metadata": {},
     "output_type": "execute_result"
    }
   ],
   "source": [
    "tafe_resignations['CEASE_DATE'].value_counts()"
   ]
  },
  {
   "cell_type": "code",
   "execution_count": 1064,
   "metadata": {},
   "outputs": [
    {
     "name": "stdout",
     "output_type": "stream",
     "text": [
      "<class 'pandas.core.frame.DataFrame'>\n",
      "Int64Index: 340 entries, 3 to 701\n",
      "Data columns (total 23 columns):\n",
      " #   Column                                               Non-Null Count  Dtype  \n",
      "---  ------                                               --------------  -----  \n",
      " 0   ID                                                   340 non-null    float64\n",
      " 1   INSTITUTE                                            340 non-null    object \n",
      " 2   WORKAREA                                             340 non-null    object \n",
      " 3   CEASE_DATE                                           335 non-null    float64\n",
      " 4   SEPARATIONTYPE                                       340 non-null    object \n",
      " 5   CONTRIBUTING FACTORS. CAREER MOVE - PUBLIC SECTOR    332 non-null    object \n",
      " 6   CONTRIBUTING FACTORS. CAREER MOVE - PRIVATE SECTOR   332 non-null    object \n",
      " 7   CONTRIBUTING FACTORS. CAREER MOVE - SELF-EMPLOYMENT  332 non-null    object \n",
      " 8   CONTRIBUTING FACTORS. ILL HEALTH                     332 non-null    object \n",
      " 9   CONTRIBUTING FACTORS. MATERNITY/FAMILY               332 non-null    object \n",
      " 10  CONTRIBUTING FACTORS. DISSATISFACTION                332 non-null    object \n",
      " 11  CONTRIBUTING FACTORS. JOB DISSATISFACTION            332 non-null    object \n",
      " 12  CONTRIBUTING FACTORS. INTERPERSONAL CONFLICT         332 non-null    object \n",
      " 13  CONTRIBUTING FACTORS. STUDY                          332 non-null    object \n",
      " 14  CONTRIBUTING FACTORS. TRAVEL                         332 non-null    object \n",
      " 15  CONTRIBUTING FACTORS. OTHER                          332 non-null    object \n",
      " 16  CONTRIBUTING FACTORS. NONE                           332 non-null    object \n",
      " 17  GENDER                                               290 non-null    object \n",
      " 18  AGE                                                  290 non-null    object \n",
      " 19  EMPLOYMENT_STATUS                                    290 non-null    object \n",
      " 20  POSITION                                             290 non-null    object \n",
      " 21  INSTITUTE_SERVICE                                    290 non-null    object \n",
      " 22  ROLE_SERVICE                                         290 non-null    object \n",
      "dtypes: float64(2), object(21)\n",
      "memory usage: 63.8+ KB\n"
     ]
    }
   ],
   "source": [
    "tafe_resignations.info()"
   ]
  },
  {
   "cell_type": "code",
   "execution_count": 1065,
   "metadata": {},
   "outputs": [],
   "source": [
    "dete_resignations['INSTITUTE_SERVICE'] = dete_resignations['CEASE_YEAR'] - dete_resignations['DETE_START_DATE'].astype(float)"
   ]
  },
  {
   "cell_type": "code",
   "execution_count": 1066,
   "metadata": {},
   "outputs": [
    {
     "data": {
      "text/plain": [
       "5.0     23\n",
       "1.0     22\n",
       "3.0     20\n",
       "0.0     20\n",
       "6.0     17\n",
       "4.0     16\n",
       "9.0     14\n",
       "2.0     14\n",
       "7.0     13\n",
       "13.0     8\n",
       "8.0      8\n",
       "20.0     7\n",
       "15.0     7\n",
       "10.0     6\n",
       "22.0     6\n",
       "14.0     6\n",
       "17.0     6\n",
       "12.0     6\n",
       "16.0     5\n",
       "18.0     5\n",
       "23.0     4\n",
       "11.0     4\n",
       "24.0     4\n",
       "39.0     3\n",
       "19.0     3\n",
       "21.0     3\n",
       "32.0     3\n",
       "28.0     2\n",
       "26.0     2\n",
       "25.0     2\n",
       "30.0     2\n",
       "36.0     2\n",
       "29.0     1\n",
       "33.0     1\n",
       "42.0     1\n",
       "27.0     1\n",
       "41.0     1\n",
       "35.0     1\n",
       "38.0     1\n",
       "34.0     1\n",
       "49.0     1\n",
       "31.0     1\n",
       "Name: INSTITUTE_SERVICE, dtype: int64"
      ]
     },
     "execution_count": 1066,
     "metadata": {},
     "output_type": "execute_result"
    }
   ],
   "source": [
    "dete_resignations['INSTITUTE_SERVICE'].value_counts()"
   ]
  },
  {
   "cell_type": "markdown",
   "metadata": {},
   "source": [
    "### Identify dissatisfied employees"
   ]
  },
  {
   "cell_type": "code",
   "execution_count": 1067,
   "metadata": {},
   "outputs": [
    {
     "name": "stdout",
     "output_type": "stream",
     "text": [
      "<class 'pandas.core.frame.DataFrame'>\n",
      "Int64Index: 340 entries, 3 to 701\n",
      "Data columns (total 23 columns):\n",
      " #   Column                                               Non-Null Count  Dtype  \n",
      "---  ------                                               --------------  -----  \n",
      " 0   ID                                                   340 non-null    float64\n",
      " 1   INSTITUTE                                            340 non-null    object \n",
      " 2   WORKAREA                                             340 non-null    object \n",
      " 3   CEASE_DATE                                           335 non-null    float64\n",
      " 4   SEPARATIONTYPE                                       340 non-null    object \n",
      " 5   CONTRIBUTING FACTORS. CAREER MOVE - PUBLIC SECTOR    332 non-null    object \n",
      " 6   CONTRIBUTING FACTORS. CAREER MOVE - PRIVATE SECTOR   332 non-null    object \n",
      " 7   CONTRIBUTING FACTORS. CAREER MOVE - SELF-EMPLOYMENT  332 non-null    object \n",
      " 8   CONTRIBUTING FACTORS. ILL HEALTH                     332 non-null    object \n",
      " 9   CONTRIBUTING FACTORS. MATERNITY/FAMILY               332 non-null    object \n",
      " 10  CONTRIBUTING FACTORS. DISSATISFACTION                332 non-null    object \n",
      " 11  CONTRIBUTING FACTORS. JOB DISSATISFACTION            332 non-null    object \n",
      " 12  CONTRIBUTING FACTORS. INTERPERSONAL CONFLICT         332 non-null    object \n",
      " 13  CONTRIBUTING FACTORS. STUDY                          332 non-null    object \n",
      " 14  CONTRIBUTING FACTORS. TRAVEL                         332 non-null    object \n",
      " 15  CONTRIBUTING FACTORS. OTHER                          332 non-null    object \n",
      " 16  CONTRIBUTING FACTORS. NONE                           332 non-null    object \n",
      " 17  GENDER                                               290 non-null    object \n",
      " 18  AGE                                                  290 non-null    object \n",
      " 19  EMPLOYMENT_STATUS                                    290 non-null    object \n",
      " 20  POSITION                                             290 non-null    object \n",
      " 21  INSTITUTE_SERVICE                                    290 non-null    object \n",
      " 22  ROLE_SERVICE                                         290 non-null    object \n",
      "dtypes: float64(2), object(21)\n",
      "memory usage: 63.8+ KB\n"
     ]
    }
   ],
   "source": [
    "tafe_resignations.info()"
   ]
  },
  {
   "cell_type": "code",
   "execution_count": 1068,
   "metadata": {},
   "outputs": [
    {
     "data": {
      "text/plain": [
       "-                                         277\n",
       "Contributing Factors. Dissatisfaction      55\n",
       "Name: CONTRIBUTING FACTORS. DISSATISFACTION, dtype: int64"
      ]
     },
     "execution_count": 1068,
     "metadata": {},
     "output_type": "execute_result"
    }
   ],
   "source": [
    "tafe_resignations['CONTRIBUTING FACTORS. DISSATISFACTION'].value_counts()"
   ]
  },
  {
   "cell_type": "code",
   "execution_count": 1069,
   "metadata": {},
   "outputs": [
    {
     "data": {
      "text/plain": [
       "-                      270\n",
       "Job Dissatisfaction     62\n",
       "Name: CONTRIBUTING FACTORS. JOB DISSATISFACTION, dtype: int64"
      ]
     },
     "execution_count": 1069,
     "metadata": {},
     "output_type": "execute_result"
    }
   ],
   "source": [
    "tafe_resignations['CONTRIBUTING FACTORS. JOB DISSATISFACTION'].value_counts()"
   ]
  },
  {
   "cell_type": "code",
   "execution_count": 1070,
   "metadata": {},
   "outputs": [],
   "source": [
    "def update_vals(val):\n",
    "    if (pd.isnull(val)):\n",
    "        return np.nan\n",
    "    if (val == '-'):\n",
    "        return False\n",
    "    else:\n",
    "        return True"
   ]
  },
  {
   "cell_type": "code",
   "execution_count": 1071,
   "metadata": {},
   "outputs": [],
   "source": [
    "tafe_resignations[['CONTRIBUTING FACTORS. DISSATISFACTION', 'CONTRIBUTING FACTORS. JOB DISSATISFACTION']] = tafe_resignations[['CONTRIBUTING FACTORS. DISSATISFACTION', 'CONTRIBUTING FACTORS. JOB DISSATISFACTION']].applymap(update_vals)"
   ]
  },
  {
   "cell_type": "code",
   "execution_count": 1072,
   "metadata": {},
   "outputs": [
    {
     "data": {
      "text/plain": [
       "False    277\n",
       "True      55\n",
       "Name: CONTRIBUTING FACTORS. DISSATISFACTION, dtype: int64"
      ]
     },
     "execution_count": 1072,
     "metadata": {},
     "output_type": "execute_result"
    }
   ],
   "source": [
    "tafe_resignations['CONTRIBUTING FACTORS. DISSATISFACTION'].value_counts()"
   ]
  },
  {
   "cell_type": "code",
   "execution_count": 1073,
   "metadata": {},
   "outputs": [],
   "source": [
    "tafe_resignations['dissatisfied'] = tafe_resignations[['CONTRIBUTING FACTORS. DISSATISFACTION', 'CONTRIBUTING FACTORS. JOB DISSATISFACTION']].any(axis=1, skipna=False)"
   ]
  },
  {
   "cell_type": "code",
   "execution_count": 1074,
   "metadata": {},
   "outputs": [
    {
     "data": {
      "text/plain": [
       "False    241\n",
       "True      91\n",
       "Name: dissatisfied, dtype: int64"
      ]
     },
     "execution_count": 1074,
     "metadata": {},
     "output_type": "execute_result"
    }
   ],
   "source": [
    "tafe_resignations['dissatisfied'].value_counts()"
   ]
  },
  {
   "cell_type": "code",
   "execution_count": 1075,
   "metadata": {},
   "outputs": [],
   "source": [
    "dete_resignations['dissatisfied'] = dete_resignations[['JOB_DISSATISFACTION']].any(axis=1, skipna=False)"
   ]
  },
  {
   "cell_type": "code",
   "execution_count": 1076,
   "metadata": {},
   "outputs": [
    {
     "data": {
      "text/plain": [
       "False    270\n",
       "True      41\n",
       "Name: dissatisfied, dtype: int64"
      ]
     },
     "execution_count": 1076,
     "metadata": {},
     "output_type": "execute_result"
    }
   ],
   "source": [
    "dete_resignations['dissatisfied'].value_counts()"
   ]
  },
  {
   "cell_type": "code",
   "execution_count": 1077,
   "metadata": {},
   "outputs": [],
   "source": [
    "dete_resignations_up = dete_resignations.copy()\n",
    "tafe_resignations_up = tafe_resignations.copy()"
   ]
  },
  {
   "cell_type": "markdown",
   "metadata": {},
   "source": [
    "### Combine the data"
   ]
  },
  {
   "cell_type": "code",
   "execution_count": 1078,
   "metadata": {},
   "outputs": [],
   "source": [
    "dete_resignations_up['institute'] = 'DETE'\n",
    "tafe_resignations_up['institute'] = 'TAFE'"
   ]
  },
  {
   "cell_type": "code",
   "execution_count": 1079,
   "metadata": {},
   "outputs": [],
   "source": [
    "combined = pd.concat([dete_resignations_up, tafe_resignations_up], axis=0)"
   ]
  },
  {
   "cell_type": "code",
   "execution_count": 1080,
   "metadata": {},
   "outputs": [
    {
     "name": "stdout",
     "output_type": "stream",
     "text": [
      "<class 'pandas.core.frame.DataFrame'>\n",
      "Int64Index: 651 entries, 3 to 701\n",
      "Data columns (total 54 columns):\n",
      " #   Column                                               Non-Null Count  Dtype  \n",
      "---  ------                                               --------------  -----  \n",
      " 0   ID                                                   651 non-null    float64\n",
      " 1   SEPARATIONTYPE                                       651 non-null    object \n",
      " 2   CEASE_DATE                                           635 non-null    object \n",
      " 3   DETE_START_DATE                                      283 non-null    float64\n",
      " 4   ROLE_START_DATE                                      271 non-null    float64\n",
      " 5   POSITION                                             598 non-null    object \n",
      " 6   CLASSIFICATION                                       161 non-null    object \n",
      " 7   REGION                                               265 non-null    object \n",
      " 8   BUSINESS_UNIT                                        32 non-null     object \n",
      " 9   EMPLOYMENT_STATUS                                    597 non-null    object \n",
      " 10  CAREER_MOVE_TO_PUBLIC_SECTOR                         311 non-null    object \n",
      " 11  CAREER_MOVE_TO_PRIVATE_SECTOR                        311 non-null    object \n",
      " 12  INTERPERSONAL_CONFLICTS                              311 non-null    object \n",
      " 13  JOB_DISSATISFACTION                                  311 non-null    object \n",
      " 14  DISSATISFACTION_WITH_THE_DEPARTMENT                  311 non-null    object \n",
      " 15  PHYSICAL_WORK_ENVIRONMENT                            311 non-null    object \n",
      " 16  LACK_OF_RECOGNITION                                  311 non-null    object \n",
      " 17  LACK_OF_JOB_SECURITY                                 311 non-null    object \n",
      " 18  WORK_LOCATION                                        311 non-null    object \n",
      " 19  EMPLOYMENT_CONDITIONS                                311 non-null    object \n",
      " 20  MATERNITY/FAMILY                                     311 non-null    object \n",
      " 21  RELOCATION                                           311 non-null    object \n",
      " 22  STUDY/TRAVEL                                         311 non-null    object \n",
      " 23  ILL_HEALTH                                           311 non-null    object \n",
      " 24  TRAUMATIC_INCIDENT                                   311 non-null    object \n",
      " 25  WORK_LIFE_BALANCE                                    311 non-null    object \n",
      " 26  WORKLOAD                                             311 non-null    object \n",
      " 27  NONE_OF_THE_ABOVE                                    311 non-null    object \n",
      " 28  GENDER                                               592 non-null    object \n",
      " 29  AGE                                                  596 non-null    object \n",
      " 30  ABORIGINAL                                           7 non-null      object \n",
      " 31  TORRES_STRAIT                                        0 non-null      object \n",
      " 32  SOUTH_SEA                                            3 non-null      object \n",
      " 33  DISABILITY                                           8 non-null      object \n",
      " 34  NESB                                                 9 non-null      object \n",
      " 35  CEASE_YEAR                                           300 non-null    float64\n",
      " 36  INSTITUTE_SERVICE                                    563 non-null    object \n",
      " 37  dissatisfied                                         643 non-null    object \n",
      " 38  institute                                            651 non-null    object \n",
      " 39  INSTITUTE                                            340 non-null    object \n",
      " 40  WORKAREA                                             340 non-null    object \n",
      " 41  CONTRIBUTING FACTORS. CAREER MOVE - PUBLIC SECTOR    332 non-null    object \n",
      " 42  CONTRIBUTING FACTORS. CAREER MOVE - PRIVATE SECTOR   332 non-null    object \n",
      " 43  CONTRIBUTING FACTORS. CAREER MOVE - SELF-EMPLOYMENT  332 non-null    object \n",
      " 44  CONTRIBUTING FACTORS. ILL HEALTH                     332 non-null    object \n",
      " 45  CONTRIBUTING FACTORS. MATERNITY/FAMILY               332 non-null    object \n",
      " 46  CONTRIBUTING FACTORS. DISSATISFACTION                332 non-null    object \n",
      " 47  CONTRIBUTING FACTORS. JOB DISSATISFACTION            332 non-null    object \n",
      " 48  CONTRIBUTING FACTORS. INTERPERSONAL CONFLICT         332 non-null    object \n",
      " 49  CONTRIBUTING FACTORS. STUDY                          332 non-null    object \n",
      " 50  CONTRIBUTING FACTORS. TRAVEL                         332 non-null    object \n",
      " 51  CONTRIBUTING FACTORS. OTHER                          332 non-null    object \n",
      " 52  CONTRIBUTING FACTORS. NONE                           332 non-null    object \n",
      " 53  ROLE_SERVICE                                         290 non-null    object \n",
      "dtypes: float64(4), object(50)\n",
      "memory usage: 279.7+ KB\n"
     ]
    }
   ],
   "source": [
    "combined.info()"
   ]
  },
  {
   "cell_type": "code",
   "execution_count": 1081,
   "metadata": {},
   "outputs": [],
   "source": [
    "combined_updated = combined.dropna(thresh=500, axis=1)"
   ]
  },
  {
   "cell_type": "code",
   "execution_count": 1082,
   "metadata": {},
   "outputs": [
    {
     "name": "stdout",
     "output_type": "stream",
     "text": [
      "<class 'pandas.core.frame.DataFrame'>\n",
      "Int64Index: 651 entries, 3 to 701\n",
      "Data columns (total 10 columns):\n",
      " #   Column             Non-Null Count  Dtype  \n",
      "---  ------             --------------  -----  \n",
      " 0   ID                 651 non-null    float64\n",
      " 1   SEPARATIONTYPE     651 non-null    object \n",
      " 2   CEASE_DATE         635 non-null    object \n",
      " 3   POSITION           598 non-null    object \n",
      " 4   EMPLOYMENT_STATUS  597 non-null    object \n",
      " 5   GENDER             592 non-null    object \n",
      " 6   AGE                596 non-null    object \n",
      " 7   INSTITUTE_SERVICE  563 non-null    object \n",
      " 8   dissatisfied       643 non-null    object \n",
      " 9   institute          651 non-null    object \n",
      "dtypes: float64(1), object(9)\n",
      "memory usage: 55.9+ KB\n"
     ]
    }
   ],
   "source": [
    "combined_updated.info()"
   ]
  },
  {
   "cell_type": "markdown",
   "metadata": {},
   "source": [
    "### Clean the service column"
   ]
  },
  {
   "cell_type": "code",
   "execution_count": 1083,
   "metadata": {},
   "outputs": [
    {
     "data": {
      "text/plain": [
       "Less than 1 year      73\n",
       "1-2                   64\n",
       "3-4                   63\n",
       "5-6                   33\n",
       "11-20                 26\n",
       "5.0                   23\n",
       "1.0                   22\n",
       "7-10                  21\n",
       "3.0                   20\n",
       "0.0                   20\n",
       "6.0                   17\n",
       "4.0                   16\n",
       "2.0                   14\n",
       "9.0                   14\n",
       "7.0                   13\n",
       "More than 20 years    10\n",
       "8.0                    8\n",
       "13.0                   8\n",
       "15.0                   7\n",
       "20.0                   7\n",
       "12.0                   6\n",
       "22.0                   6\n",
       "17.0                   6\n",
       "14.0                   6\n",
       "10.0                   6\n",
       "18.0                   5\n",
       "16.0                   5\n",
       "23.0                   4\n",
       "11.0                   4\n",
       "24.0                   4\n",
       "19.0                   3\n",
       "39.0                   3\n",
       "21.0                   3\n",
       "32.0                   3\n",
       "26.0                   2\n",
       "28.0                   2\n",
       "30.0                   2\n",
       "25.0                   2\n",
       "36.0                   2\n",
       "27.0                   1\n",
       "29.0                   1\n",
       "31.0                   1\n",
       "33.0                   1\n",
       "34.0                   1\n",
       "41.0                   1\n",
       "35.0                   1\n",
       "42.0                   1\n",
       "49.0                   1\n",
       "38.0                   1\n",
       "Name: INSTITUTE_SERVICE, dtype: int64"
      ]
     },
     "execution_count": 1083,
     "metadata": {},
     "output_type": "execute_result"
    }
   ],
   "source": [
    "combined_updated['INSTITUTE_SERVICE'].value_counts()"
   ]
  },
  {
   "cell_type": "code",
   "execution_count": 1084,
   "metadata": {},
   "outputs": [
    {
     "data": {
      "text/plain": [
       "88"
      ]
     },
     "execution_count": 1084,
     "metadata": {},
     "output_type": "execute_result"
    }
   ],
   "source": [
    "combined_updated['INSTITUTE_SERVICE'].isnull().sum()"
   ]
  },
  {
   "cell_type": "code",
   "execution_count": 1085,
   "metadata": {},
   "outputs": [],
   "source": [
    "combined_updated_2 = combined_updated.copy()\n",
    "combined_updated_2['INSTITUTE_SERVICE'] = combined_updated_2['INSTITUTE_SERVICE'].astype(str)"
   ]
  },
  {
   "cell_type": "code",
   "execution_count": 1086,
   "metadata": {
    "scrolled": true
   },
   "outputs": [
    {
     "name": "stdout",
     "output_type": "stream",
     "text": [
      "<class 'pandas.core.frame.DataFrame'>\n",
      "Int64Index: 651 entries, 3 to 701\n",
      "Data columns (total 10 columns):\n",
      " #   Column             Non-Null Count  Dtype  \n",
      "---  ------             --------------  -----  \n",
      " 0   ID                 651 non-null    float64\n",
      " 1   SEPARATIONTYPE     651 non-null    object \n",
      " 2   CEASE_DATE         635 non-null    object \n",
      " 3   POSITION           598 non-null    object \n",
      " 4   EMPLOYMENT_STATUS  597 non-null    object \n",
      " 5   GENDER             592 non-null    object \n",
      " 6   AGE                596 non-null    object \n",
      " 7   INSTITUTE_SERVICE  651 non-null    object \n",
      " 8   dissatisfied       643 non-null    object \n",
      " 9   institute          651 non-null    object \n",
      "dtypes: float64(1), object(9)\n",
      "memory usage: 55.9+ KB\n"
     ]
    }
   ],
   "source": [
    "combined_updated_2.info()"
   ]
  },
  {
   "cell_type": "code",
   "execution_count": 1087,
   "metadata": {
    "scrolled": true
   },
   "outputs": [
    {
     "data": {
      "text/plain": [
       "0       93\n",
       "nan     88\n",
       "1       64\n",
       "3       63\n",
       "20      43\n",
       "5       33\n",
       "5.0     23\n",
       "1.0     22\n",
       "7       21\n",
       "3.0     20\n",
       "6.0     17\n",
       "4.0     16\n",
       "9.0     14\n",
       "2.0     14\n",
       "7.0     13\n",
       "13.0     8\n",
       "8.0      8\n",
       "15.0     7\n",
       "10       6\n",
       "12.0     6\n",
       "14.0     6\n",
       "22.0     6\n",
       "17.0     6\n",
       "16.0     5\n",
       "18.0     5\n",
       "23.0     4\n",
       "24.0     4\n",
       "11.0     4\n",
       "32.0     3\n",
       "39.0     3\n",
       "21.0     3\n",
       "19.0     3\n",
       "28.0     2\n",
       "36.0     2\n",
       "25.0     2\n",
       "26.0     2\n",
       "30       2\n",
       "33.0     1\n",
       "42.0     1\n",
       "49.0     1\n",
       "41.0     1\n",
       "31.0     1\n",
       "35.0     1\n",
       "27.0     1\n",
       "38.0     1\n",
       "29.0     1\n",
       "34.0     1\n",
       "Name: INSTITUTE_SERVICE, dtype: int64"
      ]
     },
     "execution_count": 1087,
     "metadata": {},
     "output_type": "execute_result"
    }
   ],
   "source": [
    "combined_updated_2['INSTITUTE_SERVICE'] = combined_updated['INSTITUTE_SERVICE'].astype(str).str.strip().str.replace('11-20','20').str.replace('1-2','1').str.replace('3-4','3').str.replace('5-6','5').str.replace('7-10','7').str.replace('More than 20 years', '20').str.replace('Less than 1 year', '0').str.replace('0.0', '0')\n",
    "combined_updated_2['INSTITUTE_SERVICE'].value_counts()"
   ]
  },
  {
   "cell_type": "code",
   "execution_count": 1088,
   "metadata": {},
   "outputs": [
    {
     "data": {
      "text/plain": [
       "0"
      ]
     },
     "execution_count": 1088,
     "metadata": {},
     "output_type": "execute_result"
    }
   ],
   "source": [
    "combined_updated_2['INSTITUTE_SERVICE'].isnull().sum()"
   ]
  },
  {
   "cell_type": "code",
   "execution_count": 1089,
   "metadata": {},
   "outputs": [],
   "source": [
    "combined_updated_2['INSTITUTE_SERVICE'] = combined_updated_2['INSTITUTE_SERVICE'].astype(float)"
   ]
  },
  {
   "cell_type": "code",
   "execution_count": 1090,
   "metadata": {},
   "outputs": [
    {
     "data": {
      "text/plain": [
       "0.0     93\n",
       "1.0     86\n",
       "2.0     14\n",
       "3.0     83\n",
       "4.0     16\n",
       "5.0     56\n",
       "6.0     17\n",
       "7.0     34\n",
       "8.0      8\n",
       "9.0     14\n",
       "10.0     6\n",
       "11.0     4\n",
       "12.0     6\n",
       "13.0     8\n",
       "14.0     6\n",
       "15.0     7\n",
       "16.0     5\n",
       "17.0     6\n",
       "18.0     5\n",
       "19.0     3\n",
       "20.0    43\n",
       "21.0     3\n",
       "22.0     6\n",
       "23.0     4\n",
       "24.0     4\n",
       "25.0     2\n",
       "26.0     2\n",
       "27.0     1\n",
       "28.0     2\n",
       "29.0     1\n",
       "30.0     2\n",
       "31.0     1\n",
       "32.0     3\n",
       "33.0     1\n",
       "34.0     1\n",
       "35.0     1\n",
       "36.0     2\n",
       "38.0     1\n",
       "39.0     3\n",
       "41.0     1\n",
       "42.0     1\n",
       "49.0     1\n",
       "Name: INSTITUTE_SERVICE, dtype: int64"
      ]
     },
     "execution_count": 1090,
     "metadata": {},
     "output_type": "execute_result"
    }
   ],
   "source": [
    "combined_updated_2['INSTITUTE_SERVICE'].value_counts().sort_index()"
   ]
  },
  {
   "cell_type": "code",
   "execution_count": 1091,
   "metadata": {},
   "outputs": [
    {
     "data": {
      "text/plain": [
       "88"
      ]
     },
     "execution_count": 1091,
     "metadata": {},
     "output_type": "execute_result"
    }
   ],
   "source": [
    "combined_updated_2['INSTITUTE_SERVICE'].isnull().sum()"
   ]
  },
  {
   "cell_type": "code",
   "execution_count": 1092,
   "metadata": {},
   "outputs": [
    {
     "name": "stdout",
     "output_type": "stream",
     "text": [
      "<class 'pandas.core.frame.DataFrame'>\n",
      "Int64Index: 651 entries, 3 to 701\n",
      "Data columns (total 10 columns):\n",
      " #   Column             Non-Null Count  Dtype  \n",
      "---  ------             --------------  -----  \n",
      " 0   ID                 651 non-null    float64\n",
      " 1   SEPARATIONTYPE     651 non-null    object \n",
      " 2   CEASE_DATE         635 non-null    object \n",
      " 3   POSITION           598 non-null    object \n",
      " 4   EMPLOYMENT_STATUS  597 non-null    object \n",
      " 5   GENDER             592 non-null    object \n",
      " 6   AGE                596 non-null    object \n",
      " 7   INSTITUTE_SERVICE  563 non-null    float64\n",
      " 8   dissatisfied       643 non-null    object \n",
      " 9   institute          651 non-null    object \n",
      "dtypes: float64(2), object(8)\n",
      "memory usage: 55.9+ KB\n"
     ]
    }
   ],
   "source": [
    "combined_updated_2.info()"
   ]
  },
  {
   "cell_type": "code",
   "execution_count": 1093,
   "metadata": {},
   "outputs": [],
   "source": [
    "def service_cat(val):\n",
    "    if val < 3 :\n",
    "        return 'New'\n",
    "    elif val >= 3 and val <= 6:\n",
    "        return 'Experienced'\n",
    "    elif val >= 7 and val <= 10:\n",
    "        return 'Established'\n",
    "    elif val > 10: \n",
    "        return 'Veteran'\n",
    "    else:\n",
    "        return np.nan"
   ]
  },
  {
   "cell_type": "code",
   "execution_count": 1094,
   "metadata": {},
   "outputs": [],
   "source": [
    "combined_updated_2['service_cat'] = combined_updated_2['INSTITUTE_SERVICE'].apply(service_cat)"
   ]
  },
  {
   "cell_type": "code",
   "execution_count": 1095,
   "metadata": {},
   "outputs": [
    {
     "data": {
      "text/plain": [
       "New            193\n",
       "Experienced    172\n",
       "Veteran        136\n",
       "Established     62\n",
       "Name: service_cat, dtype: int64"
      ]
     },
     "execution_count": 1095,
     "metadata": {},
     "output_type": "execute_result"
    }
   ],
   "source": [
    "combined_updated_2['service_cat'].value_counts()"
   ]
  },
  {
   "cell_type": "markdown",
   "metadata": {},
   "source": [
    "### Perform Initial analysis"
   ]
  },
  {
   "cell_type": "code",
   "execution_count": 1096,
   "metadata": {},
   "outputs": [
    {
     "data": {
      "text/plain": [
       "False    511\n",
       "True     132\n",
       "NaN        8\n",
       "Name: dissatisfied, dtype: int64"
      ]
     },
     "execution_count": 1096,
     "metadata": {},
     "output_type": "execute_result"
    }
   ],
   "source": [
    "combined_updated_2['dissatisfied'].value_counts(dropna=False)"
   ]
  },
  {
   "cell_type": "code",
   "execution_count": 1100,
   "metadata": {},
   "outputs": [],
   "source": [
    "combined_updated_2['dissatisfied'] = combined_updated_2['dissatisfied'].fillna(False)"
   ]
  },
  {
   "cell_type": "code",
   "execution_count": 1101,
   "metadata": {},
   "outputs": [
    {
     "data": {
      "text/plain": [
       "False    519\n",
       "True     132\n",
       "Name: dissatisfied, dtype: int64"
      ]
     },
     "execution_count": 1101,
     "metadata": {},
     "output_type": "execute_result"
    }
   ],
   "source": [
    "combined_updated_2['dissatisfied'].value_counts(dropna=False)"
   ]
  },
  {
   "cell_type": "code",
   "execution_count": 1109,
   "metadata": {},
   "outputs": [],
   "source": [
    "pivot_tb = combined_updated_2.pivot_table(values='dissatisfied', index='service_cat')"
   ]
  },
  {
   "cell_type": "code",
   "execution_count": 1110,
   "metadata": {},
   "outputs": [
    {
     "data": {
      "image/png": "[encoded data removed]",
      "text/plain": [
       "<Figure size 432x288 with 1 Axes>"
      ]
     },
     "metadata": {
      "needs_background": "light"
     },
     "output_type": "display_data"
    }
   ],
   "source": [
    "import matplotlib.pyplot as plt\n",
    "%matplotlib inline\n",
    "pivot_tb.plot(kind='bar')\n",
    "plt.show()"
   ]
  },
  {
   "cell_type": "code",
   "execution_count": null,
   "metadata": {},
   "outputs": [],
   "source": []
  }
 ],
 "metadata": {
  "kernelspec": {
   "display_name": "Python 3",
   "language": "python",
   "name": "python3"
  },
  "language_info": {
   "codemirror_mode": {
    "name": "ipython",
    "version": 3
   },
   "file_extension": ".py",
   "mimetype": "text/x-python",
   "name": "python",
   "nbconvert_exporter": "python",
   "pygments_lexer": "ipython3",
   "version": "3.8.5"
  }
 },
 "nbformat": 4,
 "nbformat_minor": 4
}

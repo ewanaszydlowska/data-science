{
 "cells": [
  {
   "cell_type": "markdown",
   "metadata": {},
   "source": [
    "### Exploring Hacker News Posts\n",
    "\n",
    "We're specifically interested in posts whose titles begin with either Ask HN or Show HN. Users submit Ask HN posts to ask the Hacker News community a specific question. Likewise, users submit Show HN posts to show the Hacker News community a project, product, or just generally something interesting.\n",
    "\n",
    "We'll compare these two types of posts to determine the following:\n",
    "\n",
    "- Do Ask HN or Show HN receive more comments on average?\n",
    "- Do posts created at a certain time receive more comments on average?"
   ]
  },
  {
   "cell_type": "code",
   "execution_count": 4,
   "metadata": {},
   "outputs": [
    {
     "name": "stdout",
     "output_type": "stream",
     "text": [
      "['id', 'title', 'url', 'num_points', 'num_comments', 'author', 'created_at']\n",
      "\n",
      "\n",
      "['12224879', 'Interactive Dynamic Video', 'http://www.interactivedynamicvideo.com/', '386', '52', 'ne0phyte', '8/4/2016 11:52']\n",
      "\n",
      "\n",
      "['10975351', 'How to Use Open Source and Shut the Fuck Up at the Same Time', 'http://hueniverse.com/2016/01/26/how-to-use-open-source-and-shut-the-fuck-up-at-the-same-time/', '39', '10', 'josep2', '1/26/2016 19:30']\n",
      "\n",
      "\n",
      "['11964716', \"Florida DJs May Face Felony for April Fools' Water Joke\", 'http://www.thewire.com/entertainment/2013/04/florida-djs-april-fools-water-joke/63798/', '2', '1', 'vezycash', '6/23/2016 22:20']\n",
      "\n",
      "\n",
      "['11919867', 'Technology ventures: From Idea to Enterprise', 'https://www.amazon.com/Technology-Ventures-Enterprise-Thomas-Byers/dp/0073523429', '3', '1', 'hswarna', '6/17/2016 0:01']\n",
      "\n",
      "\n",
      "['10301696', 'Note by Note: The Making of Steinway L1037 (2007)', 'http://www.nytimes.com/2007/11/07/movies/07stein.html?_r=0', '8', '2', 'walterbell', '9/30/2015 4:12']\n",
      "\n",
      "\n"
     ]
    }
   ],
   "source": [
    "opened_file = open('hacker_news.csv')\n",
    "from csv import reader\n",
    "read_file = reader(opened_file)\n",
    "hn = list(read_file)\n",
    "\n",
    "for row in hn[0:6]:\n",
    "    print(row)\n",
    "    print('\\n')"
   ]
  },
  {
   "cell_type": "code",
   "execution_count": 5,
   "metadata": {},
   "outputs": [
    {
     "name": "stdout",
     "output_type": "stream",
     "text": [
      "['12224879', 'Interactive Dynamic Video', 'http://www.interactivedynamicvideo.com/', '386', '52', 'ne0phyte', '8/4/2016 11:52']\n"
     ]
    }
   ],
   "source": [
    "headers = hn[0]\n",
    "hn = hn[1:]\n",
    "\n",
    "print(hn[0])"
   ]
  },
  {
   "cell_type": "code",
   "execution_count": 7,
   "metadata": {},
   "outputs": [
    {
     "name": "stdout",
     "output_type": "stream",
     "text": [
      "1744\n",
      "1162\n",
      "17194\n"
     ]
    }
   ],
   "source": [
    "ask_posts = []\n",
    "show_posts = []\n",
    "other_posts = []\n",
    "\n",
    "for row in hn:\n",
    "    title = row[1]\n",
    "    if title.lower().startswith('ask hn'):\n",
    "        ask_posts.append(row)\n",
    "    elif title.lower().startswith('show hn'):\n",
    "        show_posts.append(row)\n",
    "    else:\n",
    "        other_posts.append(row)\n",
    "        \n",
    "print(len(ask_posts))\n",
    "print(len(show_posts))\n",
    "print(len(other_posts))      "
   ]
  },
  {
   "cell_type": "markdown",
   "metadata": {},
   "source": [
    "### Calculating the Average Number of Comments for Ask HN and Show HN Posts"
   ]
  },
  {
   "cell_type": "code",
   "execution_count": 10,
   "metadata": {},
   "outputs": [
    {
     "name": "stdout",
     "output_type": "stream",
     "text": [
      "Average number of ask comments  14.038417431192661\n"
     ]
    }
   ],
   "source": [
    "total_ask_comments = 0\n",
    "\n",
    "for post in ask_posts:\n",
    "    num_comments = int(post[4])\n",
    "    total_ask_comments += num_comments\n",
    "    \n",
    "avg_ask_comments = total_ask_comments / len(ask_posts)\n",
    "print('Average number of ask comments ', avg_ask_comments)"
   ]
  },
  {
   "cell_type": "code",
   "execution_count": 11,
   "metadata": {},
   "outputs": [
    {
     "name": "stdout",
     "output_type": "stream",
     "text": [
      "Average number of show comments  10.31669535283993\n"
     ]
    }
   ],
   "source": [
    "total_show_comments = 0\n",
    "\n",
    "for post in show_posts:\n",
    "    num_comments = int(post[4])\n",
    "    total_show_comments += num_comments\n",
    "\n",
    "avg_show_comments = total_show_comments / len(show_posts)\n",
    "print('Average number of show comments ', avg_show_comments)    "
   ]
  },
  {
   "cell_type": "markdown",
   "metadata": {},
   "source": [
    "Ask posts get on average 40% commets more than show posts."
   ]
  },
  {
   "cell_type": "markdown",
   "metadata": {},
   "source": [
    "### Finding the Amount of Ask Posts and Comments by Hour Created"
   ]
  },
  {
   "cell_type": "code",
   "execution_count": 32,
   "metadata": {},
   "outputs": [
    {
     "name": "stdout",
     "output_type": "stream",
     "text": [
      "Number of post on hour 9: 45\n",
      "Number of post on hour 13: 85\n",
      "Number of post on hour 10: 59\n",
      "Number of post on hour 14: 107\n",
      "Number of post on hour 16: 108\n",
      "Number of post on hour 23: 68\n",
      "Number of post on hour 12: 73\n",
      "Number of post on hour 17: 100\n",
      "Number of post on hour 15: 116\n",
      "Number of post on hour 21: 109\n",
      "Number of post on hour 20: 80\n",
      "Number of post on hour 2: 58\n",
      "Number of post on hour 18: 109\n",
      "Number of post on hour 3: 54\n",
      "Number of post on hour 5: 46\n",
      "Number of post on hour 19: 110\n",
      "Number of post on hour 1: 60\n",
      "Number of post on hour 22: 71\n",
      "Number of post on hour 8: 48\n",
      "Number of post on hour 4: 47\n",
      "Number of post on hour 0: 55\n",
      "Number of post on hour 6: 44\n",
      "Number of post on hour 7: 34\n",
      "Number of post on hour 11: 58\n",
      "\n",
      "\n",
      "Number of comments on hour 9: 251\n",
      "Number of comments on hour 13: 1253\n",
      "Number of comments on hour 10: 793\n",
      "Number of comments on hour 14: 1416\n",
      "Number of comments on hour 16: 1814\n",
      "Number of comments on hour 23: 543\n",
      "Number of comments on hour 12: 687\n",
      "Number of comments on hour 17: 1146\n",
      "Number of comments on hour 15: 4477\n",
      "Number of comments on hour 21: 1745\n",
      "Number of comments on hour 20: 1722\n",
      "Number of comments on hour 2: 1381\n",
      "Number of comments on hour 18: 1439\n",
      "Number of comments on hour 3: 421\n",
      "Number of comments on hour 5: 464\n",
      "Number of comments on hour 19: 1188\n",
      "Number of comments on hour 1: 683\n",
      "Number of comments on hour 22: 479\n",
      "Number of comments on hour 8: 492\n",
      "Number of comments on hour 4: 337\n",
      "Number of comments on hour 0: 447\n",
      "Number of comments on hour 6: 397\n",
      "Number of comments on hour 7: 267\n",
      "Number of comments on hour 11: 641\n"
     ]
    }
   ],
   "source": [
    "import datetime as dt\n",
    "result_list = []\n",
    "for post in ask_posts:\n",
    "    created_at = post[6]\n",
    "    num_comments = int(post[4])\n",
    "    result_list.append([created_at, num_comments])\n",
    "    \n",
    "counts_by_hour = {}\n",
    "comments_by_hour = {}\n",
    "\n",
    "for result in result_list:\n",
    "    hour = dt.datetime.strptime(result[0], '%m/%d/%Y %H:%M').hour\n",
    "    \n",
    "    if hour not in counts_by_hour:\n",
    "        counts_by_hour[hour] = 1\n",
    "        comments_by_hour[hour] = result[1]\n",
    "    else:\n",
    "        counts_by_hour[hour] += 1\n",
    "        comments_by_hour[hour] += result[1]\n",
    "    \n",
    "for hour, counts in counts_by_hour.items():\n",
    "    print('Number of post on hour {0}: {1}'.format(hour, counts))\n",
    "    \n",
    "print('\\n')\n",
    "for hour, counts in comments_by_hour.items():\n",
    "    print('Number of comments on hour {0}: {1}'.format(hour, counts))"
   ]
  },
  {
   "cell_type": "markdown",
   "metadata": {},
   "source": [
    "### Calculating the Average Number of Comments for Ask HN Posts By Hour"
   ]
  },
  {
   "cell_type": "code",
   "execution_count": 36,
   "metadata": {},
   "outputs": [
    {
     "name": "stdout",
     "output_type": "stream",
     "text": [
      "[9, 5.5777777777777775]\n",
      "[13, 14.741176470588234]\n",
      "[10, 13.440677966101696]\n",
      "[14, 13.233644859813085]\n",
      "[16, 16.796296296296298]\n",
      "[23, 7.985294117647059]\n",
      "[12, 9.41095890410959]\n",
      "[17, 11.46]\n",
      "[15, 38.5948275862069]\n",
      "[21, 16.009174311926607]\n",
      "[20, 21.525]\n",
      "[2, 23.810344827586206]\n",
      "[18, 13.20183486238532]\n",
      "[3, 7.796296296296297]\n",
      "[5, 10.08695652173913]\n",
      "[19, 10.8]\n",
      "[1, 11.383333333333333]\n",
      "[22, 6.746478873239437]\n",
      "[8, 10.25]\n",
      "[4, 7.170212765957447]\n",
      "[0, 8.127272727272727]\n",
      "[6, 9.022727272727273]\n",
      "[7, 7.852941176470588]\n",
      "[11, 11.051724137931034]\n"
     ]
    }
   ],
   "source": [
    "avg_by_hour = []\n",
    "\n",
    "for hour, count in counts_by_hour.items():\n",
    "    avg_num_comments = comments_by_hour[hour] / count\n",
    "    avg_by_hour.append([hour, avg_num_comments])\n",
    "    \n",
    "for hour in avg_by_hour:\n",
    "    print(hour)"
   ]
  },
  {
   "cell_type": "markdown",
   "metadata": {},
   "source": [
    "### Sorting and Printing Values from a List to List"
   ]
  },
  {
   "cell_type": "code",
   "execution_count": 50,
   "metadata": {},
   "outputs": [
    {
     "name": "stdout",
     "output_type": "stream",
     "text": [
      "15:00: 38.59 average comments per post\n",
      "02:00: 23.81 average comments per post\n",
      "20:00: 21.52 average comments per post\n",
      "16:00: 16.80 average comments per post\n",
      "21:00: 16.01 average comments per post\n",
      "13:00: 14.74 average comments per post\n"
     ]
    }
   ],
   "source": [
    "swap_avg_by_hour = []\n",
    "\n",
    "for row in avg_by_hour:\n",
    "    swap_avg_by_hour.append([row[1], row[0]])\n",
    "    \n",
    "sorted_swap = sorted(swap_avg_by_hour, reverse=True)\n",
    "\n",
    "for row in sorted_swap[0:6]:\n",
    "    hour_obj = dt.datetime.strptime(str(row[1]), '%H')\n",
    "    hour_str = hour_obj.strftime('%H:%M')\n",
    "    print('{}: {:.2f} average comments per post'.format(hour_str, row[0]))\n",
    "    \n",
    "\n",
    "    \n"
   ]
  },
  {
   "cell_type": "markdown",
   "metadata": {},
   "source": [
    "One has the highest chance of receiving comments when creating post in:\n",
    "- early afternoon hours (between 15 and 16) \n",
    "- evening between 20 and 21\n",
    "- late at night at 2 in the moring"
   ]
  }
 ],
 "metadata": {
  "kernelspec": {
   "display_name": "Python 3",
   "language": "python",
   "name": "python3"
  },
  "language_info": {
   "codemirror_mode": {
    "name": "ipython",
    "version": 3
   },
   "file_extension": ".py",
   "mimetype": "text/x-python",
   "name": "python",
   "nbconvert_exporter": "python",
   "pygments_lexer": "ipython3",
   "version": "3.8.5"
  }
 },
 "nbformat": 4,
 "nbformat_minor": 4
}
